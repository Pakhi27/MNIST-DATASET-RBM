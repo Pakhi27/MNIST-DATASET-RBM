{
  "nbformat": 4,
  "nbformat_minor": 0,
  "metadata": {
    "colab": {
      "provenance": [],
      "authorship_tag": "ABX9TyP5HVyAogX3uYogIe/QClii",
      "include_colab_link": true
    },
    "kernelspec": {
      "name": "python3",
      "display_name": "Python 3"
    },
    "language_info": {
      "name": "python"
    }
  },
  "cells": [
    {
      "cell_type": "markdown",
      "metadata": {
        "id": "view-in-github",
        "colab_type": "text"
      },
      "source": [
        "<a href=\"https://colab.research.google.com/github/Pakhi27/MNIST-DATASET-RBM/blob/main/MNIST_DATASET_RBM.ipynb\" target=\"_parent\"><img src=\"https://colab.research.google.com/assets/colab-badge.svg\" alt=\"Open In Colab\"/></a>"
      ]
    },
    {
      "cell_type": "code",
      "execution_count": 2,
      "metadata": {
        "colab": {
          "base_uri": "https://localhost:8080/"
        },
        "id": "Ky6xVnHRyWy_",
        "outputId": "c4c22074-1844-410e-d991-c231c1173837"
      },
      "outputs": [
        {
          "output_type": "execute_result",
          "data": {
            "text/plain": [
              "<function TextIOWrapper.close()>"
            ]
          },
          "metadata": {},
          "execution_count": 2
        }
      ],
      "source": [
        "import urllib.request\n",
        "with urllib.request.urlopen(\"https://cf-courses-data.s3.us.cloud-object-storage.appdomain.cloud/IBMDeveloperSkillsNetwork-DL0120EN-SkillsNetwork/labs/Week4/data/utils.py\") as url:\n",
        "    response = url.read()\n",
        "target = open('utils.py', 'w')\n",
        "target.write(response.decode('utf-8'))\n",
        "target.close"
      ]
    },
    {
      "cell_type": "code",
      "source": [
        "!pip install grpcio==1.24.3\n",
        "!pip install tensorflow==2.9.0\n",
        "!pip install pillow==8.1.0"
      ],
      "metadata": {
        "colab": {
          "base_uri": "https://localhost:8080/",
          "height": 1000
        },
        "id": "PWuE3-Foydsk",
        "outputId": "34bba032-6fe5-49a2-a2c0-5e1a9e61f1e4"
      },
      "execution_count": null,
      "outputs": [
        {
          "metadata": {
            "tags": null
          },
          "name": "stdout",
          "output_type": "stream",
          "text": [
            "Collecting grpcio==1.24.3\n",
            "  Downloading grpcio-1.24.3.tar.gz (14.0 MB)\n",
            "\u001b[2K     \u001b[90m━━━━━━━━━━━━━━━━━━━━━━━━━━━━━━━━━━━━━━━━\u001b[0m \u001b[32m14.0/14.0 MB\u001b[0m \u001b[31m16.1 MB/s\u001b[0m eta \u001b[36m0:00:00\u001b[0m\n",
            "\u001b[?25h  Preparing metadata (setup.py) ... \u001b[?25l\u001b[?25hdone\n",
            "Requirement already satisfied: six>=1.5.2 in /usr/local/lib/python3.10/dist-packages (from grpcio==1.24.3) (1.16.0)\n",
            "Building wheels for collected packages: grpcio\n",
            "  \u001b[1;31merror\u001b[0m: \u001b[1msubprocess-exited-with-error\u001b[0m\n",
            "  \n",
            "  \u001b[31m×\u001b[0m \u001b[32mpython setup.py bdist_wheel\u001b[0m did not run successfully.\n",
            "  \u001b[31m│\u001b[0m exit code: \u001b[1;36m1\u001b[0m\n",
            "  \u001b[31m╰─>\u001b[0m See above for output.\n",
            "  \n",
            "  \u001b[1;35mnote\u001b[0m: This error originates from a subprocess, and is likely not a problem with pip.\n",
            "  Building wheel for grpcio (setup.py) ... \u001b[?25lerror\n",
            "\u001b[31m  ERROR: Failed building wheel for grpcio\u001b[0m\u001b[31m\n",
            "\u001b[0m\u001b[?25h  Running setup.py clean for grpcio\n",
            "Failed to build grpcio\n",
            "\u001b[31mERROR: Could not build wheels for grpcio, which is required to install pyproject.toml-based projects\u001b[0m\u001b[31m\n",
            "\u001b[0mCollecting tensorflow==2.9.0\n",
            "  Downloading tensorflow-2.9.0-cp310-cp310-manylinux_2_17_x86_64.manylinux2014_x86_64.whl (511.7 MB)\n",
            "\u001b[2K     \u001b[90m━━━━━━━━━━━━━━━━━━━━━━━━━━━━━━━━━━━━━━━━\u001b[0m \u001b[32m511.7/511.7 MB\u001b[0m \u001b[31m1.8 MB/s\u001b[0m eta \u001b[36m0:00:00\u001b[0m\n",
            "\u001b[?25hRequirement already satisfied: absl-py>=1.0.0 in /usr/local/lib/python3.10/dist-packages (from tensorflow==2.9.0) (1.4.0)\n",
            "Requirement already satisfied: astunparse>=1.6.0 in /usr/local/lib/python3.10/dist-packages (from tensorflow==2.9.0) (1.6.3)\n",
            "Collecting flatbuffers<2,>=1.12 (from tensorflow==2.9.0)\n",
            "  Downloading flatbuffers-1.12-py2.py3-none-any.whl (15 kB)\n",
            "Collecting gast<=0.4.0,>=0.2.1 (from tensorflow==2.9.0)\n",
            "  Downloading gast-0.4.0-py3-none-any.whl (9.8 kB)\n",
            "Requirement already satisfied: google-pasta>=0.1.1 in /usr/local/lib/python3.10/dist-packages (from tensorflow==2.9.0) (0.2.0)\n",
            "Requirement already satisfied: grpcio<2.0,>=1.24.3 in /usr/local/lib/python3.10/dist-packages (from tensorflow==2.9.0) (1.64.1)\n",
            "Requirement already satisfied: h5py>=2.9.0 in /usr/local/lib/python3.10/dist-packages (from tensorflow==2.9.0) (3.9.0)\n",
            "Collecting keras<2.10.0,>=2.9.0rc0 (from tensorflow==2.9.0)\n",
            "  Downloading keras-2.9.0-py2.py3-none-any.whl (1.6 MB)\n",
            "\u001b[2K     \u001b[90m━━━━━━━━━━━━━━━━━━━━━━━━━━━━━━━━━━━━━━━━\u001b[0m \u001b[32m1.6/1.6 MB\u001b[0m \u001b[31m61.3 MB/s\u001b[0m eta \u001b[36m0:00:00\u001b[0m\n",
            "\u001b[?25hCollecting keras-preprocessing>=1.1.1 (from tensorflow==2.9.0)\n",
            "  Downloading Keras_Preprocessing-1.1.2-py2.py3-none-any.whl (42 kB)\n",
            "\u001b[2K     \u001b[90m━━━━━━━━━━━━━━━━━━━━━━━━━━━━━━━━━━━━━━━━\u001b[0m \u001b[32m42.6/42.6 kB\u001b[0m \u001b[31m5.0 MB/s\u001b[0m eta \u001b[36m0:00:00\u001b[0m\n",
            "\u001b[?25hRequirement already satisfied: libclang>=13.0.0 in /usr/local/lib/python3.10/dist-packages (from tensorflow==2.9.0) (18.1.1)\n",
            "Requirement already satisfied: numpy>=1.20 in /usr/local/lib/python3.10/dist-packages (from tensorflow==2.9.0) (1.25.2)\n",
            "Requirement already satisfied: opt-einsum>=2.3.2 in /usr/local/lib/python3.10/dist-packages (from tensorflow==2.9.0) (3.3.0)\n",
            "Requirement already satisfied: packaging in /usr/local/lib/python3.10/dist-packages (from tensorflow==2.9.0) (24.1)\n",
            "Requirement already satisfied: protobuf>=3.9.2 in /usr/local/lib/python3.10/dist-packages (from tensorflow==2.9.0) (3.20.3)\n",
            "Requirement already satisfied: setuptools in /usr/local/lib/python3.10/dist-packages (from tensorflow==2.9.0) (67.7.2)\n",
            "Requirement already satisfied: six>=1.12.0 in /usr/local/lib/python3.10/dist-packages (from tensorflow==2.9.0) (1.16.0)\n",
            "Collecting tensorboard<2.10,>=2.9 (from tensorflow==2.9.0)\n",
            "  Downloading tensorboard-2.9.1-py3-none-any.whl (5.8 MB)\n",
            "\u001b[2K     \u001b[90m━━━━━━━━━━━━━━━━━━━━━━━━━━━━━━━━━━━━━━━━\u001b[0m \u001b[32m5.8/5.8 MB\u001b[0m \u001b[31m66.5 MB/s\u001b[0m eta \u001b[36m0:00:00\u001b[0m\n",
            "\u001b[?25hRequirement already satisfied: tensorflow-io-gcs-filesystem>=0.23.1 in /usr/local/lib/python3.10/dist-packages (from tensorflow==2.9.0) (0.37.0)\n",
            "Collecting tensorflow-estimator<2.10.0,>=2.9.0rc0 (from tensorflow==2.9.0)\n",
            "  Downloading tensorflow_estimator-2.9.0-py2.py3-none-any.whl (438 kB)\n",
            "\u001b[2K     \u001b[90m━━━━━━━━━━━━━━━━━━━━━━━━━━━━━━━━━━━━━━━━\u001b[0m \u001b[32m438.7/438.7 kB\u001b[0m \u001b[31m30.0 MB/s\u001b[0m eta \u001b[36m0:00:00\u001b[0m\n",
            "\u001b[?25hRequirement already satisfied: termcolor>=1.1.0 in /usr/local/lib/python3.10/dist-packages (from tensorflow==2.9.0) (2.4.0)\n",
            "Requirement already satisfied: typing-extensions>=3.6.6 in /usr/local/lib/python3.10/dist-packages (from tensorflow==2.9.0) (4.12.2)\n",
            "Requirement already satisfied: wrapt>=1.11.0 in /usr/local/lib/python3.10/dist-packages (from tensorflow==2.9.0) (1.14.1)\n",
            "Requirement already satisfied: wheel<1.0,>=0.23.0 in /usr/local/lib/python3.10/dist-packages (from astunparse>=1.6.0->tensorflow==2.9.0) (0.43.0)\n",
            "Requirement already satisfied: google-auth<3,>=1.6.3 in /usr/local/lib/python3.10/dist-packages (from tensorboard<2.10,>=2.9->tensorflow==2.9.0) (2.27.0)\n",
            "Collecting google-auth-oauthlib<0.5,>=0.4.1 (from tensorboard<2.10,>=2.9->tensorflow==2.9.0)\n",
            "  Downloading google_auth_oauthlib-0.4.6-py2.py3-none-any.whl (18 kB)\n",
            "Requirement already satisfied: markdown>=2.6.8 in /usr/local/lib/python3.10/dist-packages (from tensorboard<2.10,>=2.9->tensorflow==2.9.0) (3.6)\n",
            "Collecting protobuf>=3.9.2 (from tensorflow==2.9.0)\n",
            "  Downloading protobuf-3.19.6-cp310-cp310-manylinux_2_17_x86_64.manylinux2014_x86_64.whl (1.1 MB)\n",
            "\u001b[2K     \u001b[90m━━━━━━━━━━━━━━━━━━━━━━━━━━━━━━━━━━━━━━━━\u001b[0m \u001b[32m1.1/1.1 MB\u001b[0m \u001b[31m52.2 MB/s\u001b[0m eta \u001b[36m0:00:00\u001b[0m\n",
            "\u001b[?25hRequirement already satisfied: requests<3,>=2.21.0 in /usr/local/lib/python3.10/dist-packages (from tensorboard<2.10,>=2.9->tensorflow==2.9.0) (2.31.0)\n",
            "Collecting tensorboard-data-server<0.7.0,>=0.6.0 (from tensorboard<2.10,>=2.9->tensorflow==2.9.0)\n",
            "  Downloading tensorboard_data_server-0.6.1-py3-none-manylinux2010_x86_64.whl (4.9 MB)\n",
            "\u001b[2K     \u001b[90m━━━━━━━━━━━━━━━━━━━━━━━━━━━━━━━━━━━━━━━━\u001b[0m \u001b[32m4.9/4.9 MB\u001b[0m \u001b[31m65.4 MB/s\u001b[0m eta \u001b[36m0:00:00\u001b[0m\n",
            "\u001b[?25hCollecting tensorboard-plugin-wit>=1.6.0 (from tensorboard<2.10,>=2.9->tensorflow==2.9.0)\n",
            "  Downloading tensorboard_plugin_wit-1.8.1-py3-none-any.whl (781 kB)\n",
            "\u001b[2K     \u001b[90m━━━━━━━━━━━━━━━━━━━━━━━━━━━━━━━━━━━━━━━━\u001b[0m \u001b[32m781.3/781.3 kB\u001b[0m \u001b[31m52.4 MB/s\u001b[0m eta \u001b[36m0:00:00\u001b[0m\n",
            "\u001b[?25hRequirement already satisfied: werkzeug>=1.0.1 in /usr/local/lib/python3.10/dist-packages (from tensorboard<2.10,>=2.9->tensorflow==2.9.0) (3.0.3)\n",
            "Requirement already satisfied: cachetools<6.0,>=2.0.0 in /usr/local/lib/python3.10/dist-packages (from google-auth<3,>=1.6.3->tensorboard<2.10,>=2.9->tensorflow==2.9.0) (5.3.3)\n",
            "Requirement already satisfied: pyasn1-modules>=0.2.1 in /usr/local/lib/python3.10/dist-packages (from google-auth<3,>=1.6.3->tensorboard<2.10,>=2.9->tensorflow==2.9.0) (0.4.0)\n",
            "Requirement already satisfied: rsa<5,>=3.1.4 in /usr/local/lib/python3.10/dist-packages (from google-auth<3,>=1.6.3->tensorboard<2.10,>=2.9->tensorflow==2.9.0) (4.9)\n",
            "Requirement already satisfied: requests-oauthlib>=0.7.0 in /usr/local/lib/python3.10/dist-packages (from google-auth-oauthlib<0.5,>=0.4.1->tensorboard<2.10,>=2.9->tensorflow==2.9.0) (1.3.1)\n",
            "Requirement already satisfied: charset-normalizer<4,>=2 in /usr/local/lib/python3.10/dist-packages (from requests<3,>=2.21.0->tensorboard<2.10,>=2.9->tensorflow==2.9.0) (3.3.2)\n",
            "Requirement already satisfied: idna<4,>=2.5 in /usr/local/lib/python3.10/dist-packages (from requests<3,>=2.21.0->tensorboard<2.10,>=2.9->tensorflow==2.9.0) (3.7)\n",
            "Requirement already satisfied: urllib3<3,>=1.21.1 in /usr/local/lib/python3.10/dist-packages (from requests<3,>=2.21.0->tensorboard<2.10,>=2.9->tensorflow==2.9.0) (2.0.7)\n",
            "Requirement already satisfied: certifi>=2017.4.17 in /usr/local/lib/python3.10/dist-packages (from requests<3,>=2.21.0->tensorboard<2.10,>=2.9->tensorflow==2.9.0) (2024.6.2)\n",
            "Requirement already satisfied: MarkupSafe>=2.1.1 in /usr/local/lib/python3.10/dist-packages (from werkzeug>=1.0.1->tensorboard<2.10,>=2.9->tensorflow==2.9.0) (2.1.5)\n",
            "Requirement already satisfied: pyasn1<0.7.0,>=0.4.6 in /usr/local/lib/python3.10/dist-packages (from pyasn1-modules>=0.2.1->google-auth<3,>=1.6.3->tensorboard<2.10,>=2.9->tensorflow==2.9.0) (0.6.0)\n",
            "Requirement already satisfied: oauthlib>=3.0.0 in /usr/local/lib/python3.10/dist-packages (from requests-oauthlib>=0.7.0->google-auth-oauthlib<0.5,>=0.4.1->tensorboard<2.10,>=2.9->tensorflow==2.9.0) (3.2.2)\n",
            "Installing collected packages: tensorboard-plugin-wit, keras, flatbuffers, tensorflow-estimator, tensorboard-data-server, protobuf, keras-preprocessing, gast, google-auth-oauthlib, tensorboard, tensorflow\n",
            "  Attempting uninstall: keras\n",
            "    Found existing installation: keras 2.15.0\n",
            "    Uninstalling keras-2.15.0:\n",
            "      Successfully uninstalled keras-2.15.0\n",
            "  Attempting uninstall: flatbuffers\n",
            "    Found existing installation: flatbuffers 24.3.25\n",
            "    Uninstalling flatbuffers-24.3.25:\n",
            "      Successfully uninstalled flatbuffers-24.3.25\n",
            "  Attempting uninstall: tensorflow-estimator\n",
            "    Found existing installation: tensorflow-estimator 2.15.0\n",
            "    Uninstalling tensorflow-estimator-2.15.0:\n",
            "      Successfully uninstalled tensorflow-estimator-2.15.0\n",
            "  Attempting uninstall: tensorboard-data-server\n",
            "    Found existing installation: tensorboard-data-server 0.7.2\n",
            "    Uninstalling tensorboard-data-server-0.7.2:\n",
            "      Successfully uninstalled tensorboard-data-server-0.7.2\n",
            "  Attempting uninstall: protobuf\n",
            "    Found existing installation: protobuf 3.20.3\n",
            "    Uninstalling protobuf-3.20.3:\n",
            "      Successfully uninstalled protobuf-3.20.3\n",
            "  Attempting uninstall: gast\n",
            "    Found existing installation: gast 0.6.0\n",
            "    Uninstalling gast-0.6.0:\n",
            "      Successfully uninstalled gast-0.6.0\n",
            "  Attempting uninstall: google-auth-oauthlib\n",
            "    Found existing installation: google-auth-oauthlib 1.2.0\n",
            "    Uninstalling google-auth-oauthlib-1.2.0:\n",
            "      Successfully uninstalled google-auth-oauthlib-1.2.0\n",
            "  Attempting uninstall: tensorboard\n",
            "    Found existing installation: tensorboard 2.15.2\n",
            "    Uninstalling tensorboard-2.15.2:\n",
            "      Successfully uninstalled tensorboard-2.15.2\n",
            "  Attempting uninstall: tensorflow\n",
            "    Found existing installation: tensorflow 2.15.0\n",
            "    Uninstalling tensorflow-2.15.0:\n",
            "      Successfully uninstalled tensorflow-2.15.0\n",
            "\u001b[31mERROR: pip's dependency resolver does not currently take into account all the packages that are installed. This behaviour is the source of the following dependency conflicts.\n",
            "cudf-cu12 24.4.1 requires protobuf<5,>=3.20, but you have protobuf 3.19.6 which is incompatible.\n",
            "google-cloud-pubsub 2.21.5 requires protobuf!=4.21.0,!=4.21.1,!=4.21.2,!=4.21.3,!=4.21.4,!=4.21.5,<6.0.0dev,>=3.20.2, but you have protobuf 3.19.6 which is incompatible.\n",
            "googleapis-common-protos 1.63.2 requires protobuf!=3.20.0,!=3.20.1,!=4.21.1,!=4.21.2,!=4.21.3,!=4.21.4,!=4.21.5,<6.0.0.dev0,>=3.20.2, but you have protobuf 3.19.6 which is incompatible.\n",
            "grpc-google-iam-v1 0.13.1 requires protobuf!=4.21.1,!=4.21.2,!=4.21.3,!=4.21.4,!=4.21.5,<6.0.0dev,>=3.20.2, but you have protobuf 3.19.6 which is incompatible.\n",
            "pandas-gbq 0.19.2 requires google-auth-oauthlib>=0.7.0, but you have google-auth-oauthlib 0.4.6 which is incompatible.\n",
            "tensorflow-datasets 4.9.6 requires protobuf>=3.20, but you have protobuf 3.19.6 which is incompatible.\n",
            "tensorflow-metadata 1.15.0 requires protobuf<4.21,>=3.20.3; python_version < \"3.11\", but you have protobuf 3.19.6 which is incompatible.\n",
            "tf-keras 2.15.1 requires tensorflow<2.16,>=2.15, but you have tensorflow 2.9.0 which is incompatible.\u001b[0m\u001b[31m\n",
            "\u001b[0mSuccessfully installed flatbuffers-1.12 gast-0.4.0 google-auth-oauthlib-0.4.6 keras-2.9.0 keras-preprocessing-1.1.2 protobuf-3.19.6 tensorboard-2.9.1 tensorboard-data-server-0.6.1 tensorboard-plugin-wit-1.8.1 tensorflow-2.9.0 tensorflow-estimator-2.9.0\n"
          ]
        },
        {
          "data": {
            "application/vnd.colab-display-data+json": {
              "id": "e183426b46a6440d8b102786b24ea58e",
              "pip_warning": {
                "packages": [
                  "google"
                ]
              }
            }
          },
          "metadata": {},
          "output_type": "display_data"
        },
        {
          "output_type": "stream",
          "name": "stdout",
          "text": [
            "Collecting pillow==8.1.0\n",
            "  Downloading Pillow-8.1.0.tar.gz (44.9 MB)\n",
            "\u001b[2K     \u001b[90m━━━━━━━━━━━━━━━━━━━━━━━━━━━━━━━━━━━━━━━━\u001b[0m \u001b[32m44.9/44.9 MB\u001b[0m \u001b[31m10.6 MB/s\u001b[0m eta \u001b[36m0:00:00\u001b[0m\n",
            "\u001b[?25h  Preparing metadata (setup.py) ... \u001b[?25l\u001b[?25hdone\n",
            "Building wheels for collected packages: pillow\n",
            "  Building wheel for pillow (setup.py) ... \u001b[?25l\u001b[?25hdone\n",
            "  Created wheel for pillow: filename=Pillow-8.1.0-cp310-cp310-linux_x86_64.whl size=1163238 sha256=5064cf314a4670d10d63c66d89be73d5fd17d880cca8f6d8a475ddc3fdd2308d\n",
            "  Stored in directory: /root/.cache/pip/wheels/69/ff/e2/ff104a7329d86003512672dcce62234921a9bfb347340fd52c\n",
            "Successfully built pillow\n"
          ]
        }
      ]
    },
    {
      "cell_type": "code",
      "source": [
        "import tensorflow as tf\n",
        "from IPython.display import Markdown, display\n",
        "\n",
        "def printmd(string):\n",
        "    display(Markdown('# <span style=\"color:red\">'+string+'</span>'))\n",
        "\n",
        "\n",
        "if not tf.__version__ == '2.9.0':\n",
        "    printmd('<<<<<!!!!! ERROR !!!! please upgrade to TensorFlow 2.9.0, or restart your Kernel (Kernel->Restart & Clear Output)>>>>>')"
      ],
      "metadata": {
        "id": "49wJNp57yhvR"
      },
      "execution_count": 3,
      "outputs": []
    },
    {
      "cell_type": "code",
      "source": [
        "# An RBM has two layers. The first layer of the RBM is called the visible (or input layer). Imagine that our toy example, has only vectors with 7 values, so the visible layer must have 𝑉=7\n",
        "#  input nodes. The second layer is the hidden layer, which has 𝐻\n",
        "#  neurons in our case. Each hidden node takes on values of either 0 or 1 (i.e., ℎ𝑖=1\n",
        "#  or ℎ𝑖\n",
        "#  = 0), with a probability that is a logistic function of the inputs it receives from the other 𝑉\n",
        "#  visible units, called for example, 𝑝(ℎ𝑖=1)\n",
        "# . For our toy sample, we'll use 2 nodes in the hidden layer, so  𝐻=2"
      ],
      "metadata": {
        "id": "ACsqRwPNzKu1"
      },
      "execution_count": null,
      "outputs": []
    },
    {
      "cell_type": "code",
      "source": [
        "# Each node in the first layer also has a bias. We will denote the bias as  𝑣𝑏𝑖𝑎𝑠\n",
        "# , and this single value is shared among the  𝑉\n",
        "#  visible units.\n",
        "\n",
        "# The bias of the second is defined similarly as  ℎ𝑏𝑖𝑎𝑠\n",
        "# , and this single value among the  𝐻\n",
        "#  hidden units.\n",
        "v_bias = tf.Variable(tf.zeros([7]), tf.float32)\n",
        "h_bias = tf.Variable(tf.zeros([2]), tf.float32)"
      ],
      "metadata": {
        "id": "9c37zahEy5oZ"
      },
      "execution_count": 4,
      "outputs": []
    },
    {
      "cell_type": "code",
      "source": [
        "import numpy as np"
      ],
      "metadata": {
        "id": "nEmOsL8Q0upG"
      },
      "execution_count": 5,
      "outputs": []
    },
    {
      "cell_type": "code",
      "source": [
        "# We have to define weights among the input layer and hidden layer nodes. In the weight matrix, the number of rows are equal to the input nodes, and the number of columns are equal to the output nodes. We define a tensor  𝐖\n",
        "  # of shape = (7,2), where the number of visible neurons = 7, and the number of hidden neurons = 2."
      ],
      "metadata": {
        "id": "ND0fyZE4zS5k"
      },
      "execution_count": null,
      "outputs": []
    },
    {
      "cell_type": "code",
      "source": [
        "W = tf.constant(np.random.normal(loc=0.0, scale=1.0, size=(7, 2)).astype(np.float32))"
      ],
      "metadata": {
        "id": "io3JC4ydzcH-"
      },
      "execution_count": 6,
      "outputs": []
    },
    {
      "cell_type": "code",
      "source": [
        "# Think of RBM as a model that has been trained based on images of a dataset of many SUV and sedan cars. Also, imagine that the RBM network has only two hidden nodes, where one node encodes the weight and, and the other encodes the size. In a sense, the different configurations represent different cars, where one is an SUV and the other is Sedan. In a training process, through many forward and backward passes, the RBM adjust its weights to send a stronger signal to either the SUV node (0, 1) or the sedan node (1, 0) in the hidden layer, given the pixels of images. Now, given an SUV in hidden layer, which distribution of pixels should we expect? RBM can give you 2 things. First, it encodes your images in hidden layer. Second, it gives you the probability of observing a case, given some hidden values."
      ],
      "metadata": {
        "id": "OC1xcpIGzinA"
      },
      "execution_count": null,
      "outputs": []
    },
    {
      "cell_type": "code",
      "source": [
        "# let's look at a toy example for one case out of all input. Assume that we have a trained RBM, and a very simple input vector, such as [1.0, 0.0, 0.0, 1.0, 0.0, 0.0, 0.0]."
      ],
      "metadata": {
        "id": "Ge9bJ-k_zxWd"
      },
      "execution_count": null,
      "outputs": []
    },
    {
      "cell_type": "code",
      "source": [
        "X = tf.constant([[1.0, 0.0, 0.0, 1.0, 0.0, 0.0, 0.0]], tf.float32)\n",
        "\n",
        "v_state = X\n",
        "print (\"Input: \", v_state)\n",
        "\n",
        "h_bias = tf.constant([0.1, 0.1])\n",
        "print (\"hb: \", h_bias)\n",
        "print (\"w: \", W)\n",
        "\n",
        "# Calculate the probabilities of turning the hidden units on:\n",
        "h_prob = tf.nn.sigmoid(tf.matmul(v_state, W) + h_bias)  #probabilities of the hidden units\n",
        "print (\"p(h|v): \", h_prob)\n",
        "\n",
        "# Draw samples from the distribution:\n",
        "h_state = tf.nn.relu(tf.sign(h_prob - tf.random.uniform(tf.shape(h_prob)))) #states\n",
        "print (\"h0 states:\", h_state)"
      ],
      "metadata": {
        "colab": {
          "base_uri": "https://localhost:8080/"
        },
        "id": "kHYX0vggz8uC",
        "outputId": "7c47dc9f-1e4d-4c67-eeeb-f1014a214dc0"
      },
      "execution_count": 7,
      "outputs": [
        {
          "output_type": "stream",
          "name": "stdout",
          "text": [
            "Input:  tf.Tensor([[1. 0. 0. 1. 0. 0. 0.]], shape=(1, 7), dtype=float32)\n",
            "hb:  tf.Tensor([0.1 0.1], shape=(2,), dtype=float32)\n",
            "w:  tf.Tensor(\n",
            "[[-0.25382772  0.6437238 ]\n",
            " [ 1.0464311  -0.5834538 ]\n",
            " [ 0.01132196  1.1731493 ]\n",
            " [-1.1089132   0.24882641]\n",
            " [ 1.4930598   1.1138735 ]\n",
            " [ 0.00391042 -0.91897744]\n",
            " [ 1.4316306  -0.95643026]], shape=(7, 2), dtype=float32)\n",
            "p(h|v):  tf.Tensor([[0.2205024  0.72959137]], shape=(1, 2), dtype=float32)\n",
            "h0 states: tf.Tensor([[0. 0.]], shape=(1, 2), dtype=float32)\n"
          ]
        }
      ]
    },
    {
      "cell_type": "code",
      "source": [
        "# Phase 2) Backward Pass (Reconstruction): The RBM reconstructs data by making several forward and backward passes between the visible and hidden layers.So, in the second phase (i.e. reconstruction phase), the samples from the hidden layer (i.e.  𝐡\n",
        "#  ) becomes the input in the backward pass. The same weight matrix and visible layer biases are used to passed to the sigmoid function. The reproduced output is a reconstruction which is an approximation of the original input."
      ],
      "metadata": {
        "id": "Q6kXIlNd0Hcu"
      },
      "execution_count": null,
      "outputs": []
    },
    {
      "cell_type": "code",
      "source": [
        "vb = tf.constant([0.1, 0.2, 0.1, 0.1, 0.1, 0.2, 0.1])\n",
        "print (\"b: \", vb)\n",
        "v_prob = tf.nn.sigmoid(tf.matmul(h_state, tf.transpose(W)) + vb)\n",
        "print (\"p(vi∣h): \", v_prob)\n",
        "v_state = tf.nn.relu(tf.sign(v_prob - tf.random.uniform(tf.shape(v_prob))))\n",
        "print (\"v probability states: \", v_state)"
      ],
      "metadata": {
        "colab": {
          "base_uri": "https://localhost:8080/"
        },
        "id": "hEO3J1UY0WjU",
        "outputId": "b57b74e5-0e83-4714-cb08-b2f73ec23ec1"
      },
      "execution_count": 8,
      "outputs": [
        {
          "output_type": "stream",
          "name": "stdout",
          "text": [
            "b:  tf.Tensor([0.1 0.2 0.1 0.1 0.1 0.2 0.1], shape=(7,), dtype=float32)\n",
            "p(vi∣h):  tf.Tensor([[0.5249792 0.549834  0.5249792 0.5249792 0.5249792 0.549834  0.5249792]], shape=(1, 7), dtype=float32)\n",
            "v probability states:  tf.Tensor([[0. 1. 1. 1. 1. 1. 0.]], shape=(1, 7), dtype=float32)\n"
          ]
        }
      ]
    },
    {
      "cell_type": "code",
      "source": [
        "# given current state of hidden units and weights, what is the probability of generating [1. 0. 0. 1. 0. 0. 0.] in reconstruction phase, based on the above probability distribution function?"
      ],
      "metadata": {
        "id": "LSvblbLU0ew8"
      },
      "execution_count": null,
      "outputs": []
    },
    {
      "cell_type": "code",
      "source": [
        "inp = X\n",
        "print(\"input X:\" , inp.numpy())\n",
        "\n",
        "print(\"probablity vector:\" , v_prob[0].numpy())\n",
        "v_probability = 1\n",
        "\n",
        "for elm, p in zip(inp[0],v_prob[0]) :\n",
        "    if elm ==1:\n",
        "        v_probability *= p\n",
        "    else:\n",
        "        v_probability *= (1-p)\n",
        "\n",
        "print(\"probability of generating X: \" , v_probability.numpy())"
      ],
      "metadata": {
        "colab": {
          "base_uri": "https://localhost:8080/"
        },
        "id": "X9eHK7Ir0dwJ",
        "outputId": "8ed39591-4263-4da8-dcad-9d2e468aea0d"
      },
      "execution_count": 9,
      "outputs": [
        {
          "output_type": "stream",
          "name": "stdout",
          "text": [
            "input X: [[1. 0. 0. 1. 0. 0. 0.]]\n",
            "probablity vector: [0.5249792 0.549834  0.5249792 0.5249792 0.5249792 0.549834  0.5249792]\n",
            "probability of generating X:  0.005986424\n"
          ]
        }
      ]
    },
    {
      "cell_type": "markdown",
      "source": [
        "MNIST DATASET-RBM MODEL"
      ],
      "metadata": {
        "id": "W-1tcO1S1BFE"
      }
    },
    {
      "cell_type": "code",
      "source": [
        "#loading training and test data\n",
        "mnist = tf.keras.datasets.mnist\n",
        "(trX, trY), (teX, teY) = mnist.load_data()\n",
        "\n",
        "# showing an example of the Flatten class and operation\n",
        "from tensorflow.keras.layers import Flatten\n",
        "flatten = Flatten(dtype='float32')\n",
        "trX = flatten(trX/255.0)\n",
        "trY = flatten(trY/255.0)"
      ],
      "metadata": {
        "colab": {
          "base_uri": "https://localhost:8080/"
        },
        "id": "fQ6fqJxe1ANp",
        "outputId": "4f0d5500-13ab-4a75-f6bf-98fcb1f59cae"
      },
      "execution_count": 10,
      "outputs": [
        {
          "output_type": "stream",
          "name": "stdout",
          "text": [
            "Downloading data from https://storage.googleapis.com/tensorflow/tf-keras-datasets/mnist.npz\n",
            "11490434/11490434 [==============================] - 0s 0us/step\n"
          ]
        }
      ]
    },
    {
      "cell_type": "code",
      "source": [
        "# MNIST images have 784 pixels, so the visible layer must have 784 input nodes. For our case, we'll use 50 nodes in the hidden layer, so i = 50.\n",
        "vb = tf.Variable(tf.zeros([784]), tf.float32)\n",
        "hb = tf.Variable(tf.zeros([50]), tf.float32)"
      ],
      "metadata": {
        "id": "nzNn_rR01I-K"
      },
      "execution_count": 11,
      "outputs": []
    },
    {
      "cell_type": "code",
      "source": [
        "# Let  𝐖 be the Tensor of 784x50 (784 - number of visible neurons, 50 - number of hidden neurons) that represents weights between the neurons.\n",
        "W = tf.Variable(tf.zeros([784,50]), tf.float32)"
      ],
      "metadata": {
        "id": "dk7hSiMw1Q8u"
      },
      "execution_count": 12,
      "outputs": []
    },
    {
      "cell_type": "code",
      "source": [
        "# Lets define the visible layer:\n",
        "v0_state = tf.Variable(tf.zeros([784]), tf.float32)\n",
        "\n",
        "#testing to see if the matrix product works\n",
        "tf.matmul( [v0_state], W)"
      ],
      "metadata": {
        "colab": {
          "base_uri": "https://localhost:8080/"
        },
        "id": "zKNmUUS71Z_q",
        "outputId": "4e1862e2-fe98-4a02-a89a-6df6dd0d3128"
      },
      "execution_count": 13,
      "outputs": [
        {
          "output_type": "execute_result",
          "data": {
            "text/plain": [
              "<tf.Tensor: shape=(1, 50), dtype=float32, numpy=\n",
              "array([[0., 0., 0., 0., 0., 0., 0., 0., 0., 0., 0., 0., 0., 0., 0., 0.,\n",
              "        0., 0., 0., 0., 0., 0., 0., 0., 0., 0., 0., 0., 0., 0., 0., 0.,\n",
              "        0., 0., 0., 0., 0., 0., 0., 0., 0., 0., 0., 0., 0., 0., 0., 0.,\n",
              "        0., 0.]], dtype=float32)>"
            ]
          },
          "metadata": {},
          "execution_count": 13
        }
      ]
    },
    {
      "cell_type": "code",
      "source": [
        "# Now, we can define hidden layer:\n",
        "#computing the hidden nodes probability vector and checking shape\n",
        "h0_prob = tf.nn.sigmoid(tf.matmul([v0_state], W) + hb)  #probabilities of the hidden units\n",
        "print(\"h0_state shape: \" , tf.shape(h0_prob))\n",
        "\n",
        "#defining a function to return only the generated hidden states\n",
        "def hidden_layer(v0_state, W, hb):\n",
        "    h0_prob = tf.nn.sigmoid(tf.matmul([v0_state], W) + hb)  #probabilities of the hidden units\n",
        "    h0_state = tf.nn.relu(tf.sign(h0_prob - tf.random.uniform(tf.shape(h0_prob)))) #sample_h_given_X\n",
        "    return h0_state\n",
        "\n",
        "\n",
        "h0_state = hidden_layer(v0_state, W, hb)\n",
        "print(\"first 15 hidden states: \", h0_state[0][0:15])"
      ],
      "metadata": {
        "colab": {
          "base_uri": "https://localhost:8080/"
        },
        "id": "WUInPtH51lEZ",
        "outputId": "591da17e-638e-47a8-e709-cc2621bdb5c4"
      },
      "execution_count": 18,
      "outputs": [
        {
          "output_type": "stream",
          "name": "stdout",
          "text": [
            "h0_state shape:  tf.Tensor([ 1 50], shape=(2,), dtype=int32)\n",
            "first 15 hidden states:  tf.Tensor([0. 0. 0. 0. 0. 1. 0. 1. 0. 0. 0. 0. 0. 1. 0.], shape=(15,), dtype=float32)\n"
          ]
        }
      ]
    },
    {
      "cell_type": "code",
      "source": [
        "# Now, we define reconstruction part:\n",
        "def reconstructed_output(h0_state, W, vb):\n",
        "    v1_prob = tf.nn.sigmoid(tf.matmul(h0_state, tf.transpose(W)) + vb)\n",
        "    v1_state = tf.nn.relu(tf.sign(v1_prob - tf.random.uniform(tf.shape(v1_prob)))) #sample_v_given_h\n",
        "    return v1_state[0]\n",
        "\n",
        "v1_state = reconstructed_output(h0_state, W, vb)\n",
        "print(\"hidden state shape: \", h0_state.shape)\n",
        "print(\"v0 state shape:  \", v0_state.shape)\n",
        "print(\"v1 state shape:  \", v1_state.shape)"
      ],
      "metadata": {
        "colab": {
          "base_uri": "https://localhost:8080/"
        },
        "id": "2xSxy2Vw11FF",
        "outputId": "592179e7-2810-4a06-c304-19d5e371a11d"
      },
      "execution_count": 19,
      "outputs": [
        {
          "output_type": "stream",
          "name": "stdout",
          "text": [
            "hidden state shape:  (1, 50)\n",
            "v0 state shape:   (784,)\n",
            "v1 state shape:   (784,)\n"
          ]
        }
      ]
    },
    {
      "cell_type": "code",
      "source": [
        "# Calculate error:\n",
        "# In each epoch, we compute the \"error\" as a sum of the squared difference between step 1 and step n, e.g the error shows the difference between the data and its reconstruction.\n",
        "\n",
        "# Note: tf.reduce_mean computes the mean of elements across dimensions of a tensor."
      ],
      "metadata": {
        "id": "mE1h9lxv2Dk9"
      },
      "execution_count": null,
      "outputs": []
    },
    {
      "cell_type": "code",
      "source": [
        "def error(v0_state, v1_state):\n",
        "    return tf.reduce_mean(tf.square(v0_state - v1_state))\n",
        "\n",
        "err = tf.reduce_mean(tf.square(v0_state - v1_state))\n",
        "print(\"error\" , err.numpy())"
      ],
      "metadata": {
        "colab": {
          "base_uri": "https://localhost:8080/"
        },
        "id": "M3OgfvM12Kqg",
        "outputId": "015a9914-c67d-4c58-fd9d-9abb8629e7c7"
      },
      "execution_count": 20,
      "outputs": [
        {
          "output_type": "stream",
          "name": "stdout",
          "text": [
            "error 0.4655612\n"
          ]
        }
      ]
    },
    {
      "cell_type": "markdown",
      "source": [
        "Training the Model\n"
      ],
      "metadata": {
        "id": "2ab7EUQ82PCO"
      }
    },
    {
      "cell_type": "code",
      "source": [
        "h1_prob = tf.nn.sigmoid(tf.matmul([v1_state], W) + hb)\n",
        "h1_state = tf.nn.relu(tf.sign(h1_prob - tf.random.uniform(tf.shape(h1_prob)))) #sample_h_given_X"
      ],
      "metadata": {
        "id": "HbkJyHu42S3l"
      },
      "execution_count": 21,
      "outputs": []
    },
    {
      "cell_type": "code",
      "source": [
        "\n",
        "# error of the first run:\n",
        "print(\"error: \", error(v0_state, v1_state))"
      ],
      "metadata": {
        "colab": {
          "base_uri": "https://localhost:8080/"
        },
        "id": "g3bn4ddu2jmX",
        "outputId": "ae1574de-1197-4e89-cda1-9bfd85b05ec1"
      },
      "execution_count": 22,
      "outputs": [
        {
          "output_type": "stream",
          "name": "stdout",
          "text": [
            "error:  tf.Tensor(0.4655612, shape=(), dtype=float32)\n"
          ]
        }
      ]
    },
    {
      "cell_type": "code",
      "source": [
        "#Parameters\n",
        "alpha = 0.01\n",
        "epochs = 1\n",
        "batchsize = 200\n",
        "weights = []\n",
        "errors = []\n",
        "batch_number = 0\n",
        "K = 1\n",
        "\n",
        "#creating datasets\n",
        "train_ds = \\\n",
        "    tf.data.Dataset.from_tensor_slices((trX, trY)).batch(batchsize)\n",
        "\n",
        "for epoch in range(epochs):\n",
        "    for batch_x, batch_y in train_ds:\n",
        "        batch_number += 1\n",
        "        for i_sample in range(batchsize):\n",
        "            for k in range(K):\n",
        "                v0_state = batch_x[i_sample]\n",
        "                h0_state = hidden_layer(v0_state, W, hb)\n",
        "                v1_state = reconstructed_output(h0_state, W, vb)\n",
        "                h1_state = hidden_layer(v1_state, W, hb)\n",
        "\n",
        "                delta_W = tf.matmul(tf.transpose([v0_state]), h0_state) - tf.matmul(tf.transpose([v1_state]), h1_state)\n",
        "                W = W + alpha * delta_W\n",
        "\n",
        "                vb = vb + alpha * tf.reduce_mean(v0_state - v1_state, 0)\n",
        "                hb = hb + alpha * tf.reduce_mean(h0_state - h1_state, 0)\n",
        "\n",
        "                v0_state = v1_state\n",
        "\n",
        "            if i_sample == batchsize-1:\n",
        "                err = error(batch_x[i_sample], v1_state)\n",
        "                errors.append(err)\n",
        "                weights.append(W)\n",
        "                print ( 'Epoch: %d' % epoch,\n",
        "                       \"batch #: %i \" % batch_number, \"of %i\" % int(60e3/batchsize),\n",
        "                       \"sample #: %i\" % i_sample,\n",
        "                       'reconstruction error: %f' % err)\n",
        "\n"
      ],
      "metadata": {
        "colab": {
          "base_uri": "https://localhost:8080/"
        },
        "id": "fDcBrCPk2tSl",
        "outputId": "4c9435b9-209e-4ae0-e153-6e9a7b6e29e6"
      },
      "execution_count": 23,
      "outputs": [
        {
          "output_type": "stream",
          "name": "stdout",
          "text": [
            "Epoch: 0 batch #: 1  of 300 sample #: 199 reconstruction error: 0.145101\n",
            "Epoch: 0 batch #: 2  of 300 sample #: 199 reconstruction error: 0.230925\n",
            "Epoch: 0 batch #: 3  of 300 sample #: 199 reconstruction error: 0.123611\n",
            "Epoch: 0 batch #: 4  of 300 sample #: 199 reconstruction error: 0.130733\n",
            "Epoch: 0 batch #: 5  of 300 sample #: 199 reconstruction error: 0.120506\n",
            "Epoch: 0 batch #: 6  of 300 sample #: 199 reconstruction error: 0.192886\n",
            "Epoch: 0 batch #: 7  of 300 sample #: 199 reconstruction error: 0.093386\n",
            "Epoch: 0 batch #: 8  of 300 sample #: 199 reconstruction error: 0.118408\n",
            "Epoch: 0 batch #: 9  of 300 sample #: 199 reconstruction error: 0.104064\n",
            "Epoch: 0 batch #: 10  of 300 sample #: 199 reconstruction error: 0.160635\n",
            "Epoch: 0 batch #: 11  of 300 sample #: 199 reconstruction error: 0.084878\n",
            "Epoch: 0 batch #: 12  of 300 sample #: 199 reconstruction error: 0.158960\n",
            "Epoch: 0 batch #: 13  of 300 sample #: 199 reconstruction error: 0.062843\n",
            "Epoch: 0 batch #: 14  of 300 sample #: 199 reconstruction error: 0.098121\n",
            "Epoch: 0 batch #: 15  of 300 sample #: 199 reconstruction error: 0.102347\n",
            "Epoch: 0 batch #: 16  of 300 sample #: 199 reconstruction error: 0.111789\n",
            "Epoch: 0 batch #: 17  of 300 sample #: 199 reconstruction error: 0.070131\n",
            "Epoch: 0 batch #: 18  of 300 sample #: 199 reconstruction error: 0.122376\n",
            "Epoch: 0 batch #: 19  of 300 sample #: 199 reconstruction error: 0.143957\n",
            "Epoch: 0 batch #: 20  of 300 sample #: 199 reconstruction error: 0.086765\n",
            "Epoch: 0 batch #: 21  of 300 sample #: 199 reconstruction error: 0.093430\n",
            "Epoch: 0 batch #: 22  of 300 sample #: 199 reconstruction error: 0.085937\n",
            "Epoch: 0 batch #: 23  of 300 sample #: 199 reconstruction error: 0.119278\n",
            "Epoch: 0 batch #: 24  of 300 sample #: 199 reconstruction error: 0.139945\n",
            "Epoch: 0 batch #: 25  of 300 sample #: 199 reconstruction error: 0.085659\n",
            "Epoch: 0 batch #: 26  of 300 sample #: 199 reconstruction error: 0.101728\n",
            "Epoch: 0 batch #: 27  of 300 sample #: 199 reconstruction error: 0.112955\n",
            "Epoch: 0 batch #: 28  of 300 sample #: 199 reconstruction error: 0.093669\n",
            "Epoch: 0 batch #: 29  of 300 sample #: 199 reconstruction error: 0.097594\n",
            "Epoch: 0 batch #: 30  of 300 sample #: 199 reconstruction error: 0.082276\n",
            "Epoch: 0 batch #: 31  of 300 sample #: 199 reconstruction error: 0.092779\n",
            "Epoch: 0 batch #: 32  of 300 sample #: 199 reconstruction error: 0.131794\n",
            "Epoch: 0 batch #: 33  of 300 sample #: 199 reconstruction error: 0.055346\n",
            "Epoch: 0 batch #: 34  of 300 sample #: 199 reconstruction error: 0.067002\n",
            "Epoch: 0 batch #: 35  of 300 sample #: 199 reconstruction error: 0.083269\n",
            "Epoch: 0 batch #: 36  of 300 sample #: 199 reconstruction error: 0.090251\n",
            "Epoch: 0 batch #: 37  of 300 sample #: 199 reconstruction error: 0.064314\n",
            "Epoch: 0 batch #: 38  of 300 sample #: 199 reconstruction error: 0.064231\n",
            "Epoch: 0 batch #: 39  of 300 sample #: 199 reconstruction error: 0.098579\n",
            "Epoch: 0 batch #: 40  of 300 sample #: 199 reconstruction error: 0.117726\n",
            "Epoch: 0 batch #: 41  of 300 sample #: 199 reconstruction error: 0.072286\n",
            "Epoch: 0 batch #: 42  of 300 sample #: 199 reconstruction error: 0.076614\n",
            "Epoch: 0 batch #: 43  of 300 sample #: 199 reconstruction error: 0.124618\n",
            "Epoch: 0 batch #: 44  of 300 sample #: 199 reconstruction error: 0.080509\n",
            "Epoch: 0 batch #: 45  of 300 sample #: 199 reconstruction error: 0.065924\n",
            "Epoch: 0 batch #: 46  of 300 sample #: 199 reconstruction error: 0.023663\n",
            "Epoch: 0 batch #: 47  of 300 sample #: 199 reconstruction error: 0.040365\n",
            "Epoch: 0 batch #: 48  of 300 sample #: 199 reconstruction error: 0.037265\n",
            "Epoch: 0 batch #: 49  of 300 sample #: 199 reconstruction error: 0.119091\n",
            "Epoch: 0 batch #: 50  of 300 sample #: 199 reconstruction error: 0.044806\n",
            "Epoch: 0 batch #: 51  of 300 sample #: 199 reconstruction error: 0.061740\n",
            "Epoch: 0 batch #: 52  of 300 sample #: 199 reconstruction error: 0.034490\n",
            "Epoch: 0 batch #: 53  of 300 sample #: 199 reconstruction error: 0.096948\n",
            "Epoch: 0 batch #: 54  of 300 sample #: 199 reconstruction error: 0.055946\n",
            "Epoch: 0 batch #: 55  of 300 sample #: 199 reconstruction error: 0.105968\n",
            "Epoch: 0 batch #: 56  of 300 sample #: 199 reconstruction error: 0.063153\n",
            "Epoch: 0 batch #: 57  of 300 sample #: 199 reconstruction error: 0.051561\n",
            "Epoch: 0 batch #: 58  of 300 sample #: 199 reconstruction error: 0.070380\n",
            "Epoch: 0 batch #: 59  of 300 sample #: 199 reconstruction error: 0.050293\n",
            "Epoch: 0 batch #: 60  of 300 sample #: 199 reconstruction error: 0.093094\n",
            "Epoch: 0 batch #: 61  of 300 sample #: 199 reconstruction error: 0.067402\n",
            "Epoch: 0 batch #: 62  of 300 sample #: 199 reconstruction error: 0.104048\n",
            "Epoch: 0 batch #: 63  of 300 sample #: 199 reconstruction error: 0.055986\n",
            "Epoch: 0 batch #: 64  of 300 sample #: 199 reconstruction error: 0.090609\n",
            "Epoch: 0 batch #: 65  of 300 sample #: 199 reconstruction error: 0.075806\n",
            "Epoch: 0 batch #: 66  of 300 sample #: 199 reconstruction error: 0.064007\n",
            "Epoch: 0 batch #: 67  of 300 sample #: 199 reconstruction error: 0.042322\n",
            "Epoch: 0 batch #: 68  of 300 sample #: 199 reconstruction error: 0.070231\n",
            "Epoch: 0 batch #: 69  of 300 sample #: 199 reconstruction error: 0.083317\n",
            "Epoch: 0 batch #: 70  of 300 sample #: 199 reconstruction error: 0.093172\n",
            "Epoch: 0 batch #: 71  of 300 sample #: 199 reconstruction error: 0.088550\n",
            "Epoch: 0 batch #: 72  of 300 sample #: 199 reconstruction error: 0.060340\n",
            "Epoch: 0 batch #: 73  of 300 sample #: 199 reconstruction error: 0.082607\n",
            "Epoch: 0 batch #: 74  of 300 sample #: 199 reconstruction error: 0.092158\n",
            "Epoch: 0 batch #: 75  of 300 sample #: 199 reconstruction error: 0.058712\n",
            "Epoch: 0 batch #: 76  of 300 sample #: 199 reconstruction error: 0.058748\n",
            "Epoch: 0 batch #: 77  of 300 sample #: 199 reconstruction error: 0.111743\n",
            "Epoch: 0 batch #: 78  of 300 sample #: 199 reconstruction error: 0.109151\n",
            "Epoch: 0 batch #: 79  of 300 sample #: 199 reconstruction error: 0.108997\n",
            "Epoch: 0 batch #: 80  of 300 sample #: 199 reconstruction error: 0.026084\n",
            "Epoch: 0 batch #: 81  of 300 sample #: 199 reconstruction error: 0.060388\n",
            "Epoch: 0 batch #: 82  of 300 sample #: 199 reconstruction error: 0.041346\n",
            "Epoch: 0 batch #: 83  of 300 sample #: 199 reconstruction error: 0.088875\n",
            "Epoch: 0 batch #: 84  of 300 sample #: 199 reconstruction error: 0.076942\n",
            "Epoch: 0 batch #: 85  of 300 sample #: 199 reconstruction error: 0.051926\n",
            "Epoch: 0 batch #: 86  of 300 sample #: 199 reconstruction error: 0.078321\n",
            "Epoch: 0 batch #: 87  of 300 sample #: 199 reconstruction error: 0.077226\n",
            "Epoch: 0 batch #: 88  of 300 sample #: 199 reconstruction error: 0.032578\n",
            "Epoch: 0 batch #: 89  of 300 sample #: 199 reconstruction error: 0.065076\n",
            "Epoch: 0 batch #: 90  of 300 sample #: 199 reconstruction error: 0.062179\n",
            "Epoch: 0 batch #: 91  of 300 sample #: 199 reconstruction error: 0.047276\n",
            "Epoch: 0 batch #: 92  of 300 sample #: 199 reconstruction error: 0.067854\n",
            "Epoch: 0 batch #: 93  of 300 sample #: 199 reconstruction error: 0.100517\n",
            "Epoch: 0 batch #: 94  of 300 sample #: 199 reconstruction error: 0.112039\n",
            "Epoch: 0 batch #: 95  of 300 sample #: 199 reconstruction error: 0.071708\n",
            "Epoch: 0 batch #: 96  of 300 sample #: 199 reconstruction error: 0.054761\n",
            "Epoch: 0 batch #: 97  of 300 sample #: 199 reconstruction error: 0.105000\n",
            "Epoch: 0 batch #: 98  of 300 sample #: 199 reconstruction error: 0.093991\n",
            "Epoch: 0 batch #: 99  of 300 sample #: 199 reconstruction error: 0.055155\n",
            "Epoch: 0 batch #: 100  of 300 sample #: 199 reconstruction error: 0.086479\n",
            "Epoch: 0 batch #: 101  of 300 sample #: 199 reconstruction error: 0.071791\n",
            "Epoch: 0 batch #: 102  of 300 sample #: 199 reconstruction error: 0.073303\n",
            "Epoch: 0 batch #: 103  of 300 sample #: 199 reconstruction error: 0.079515\n",
            "Epoch: 0 batch #: 104  of 300 sample #: 199 reconstruction error: 0.072988\n",
            "Epoch: 0 batch #: 105  of 300 sample #: 199 reconstruction error: 0.036847\n",
            "Epoch: 0 batch #: 106  of 300 sample #: 199 reconstruction error: 0.108023\n",
            "Epoch: 0 batch #: 107  of 300 sample #: 199 reconstruction error: 0.126533\n",
            "Epoch: 0 batch #: 108  of 300 sample #: 199 reconstruction error: 0.060118\n",
            "Epoch: 0 batch #: 109  of 300 sample #: 199 reconstruction error: 0.100451\n",
            "Epoch: 0 batch #: 110  of 300 sample #: 199 reconstruction error: 0.054615\n",
            "Epoch: 0 batch #: 111  of 300 sample #: 199 reconstruction error: 0.118609\n",
            "Epoch: 0 batch #: 112  of 300 sample #: 199 reconstruction error: 0.031187\n",
            "Epoch: 0 batch #: 113  of 300 sample #: 199 reconstruction error: 0.071268\n",
            "Epoch: 0 batch #: 114  of 300 sample #: 199 reconstruction error: 0.079801\n",
            "Epoch: 0 batch #: 115  of 300 sample #: 199 reconstruction error: 0.055299\n",
            "Epoch: 0 batch #: 116  of 300 sample #: 199 reconstruction error: 0.043047\n",
            "Epoch: 0 batch #: 117  of 300 sample #: 199 reconstruction error: 0.043878\n",
            "Epoch: 0 batch #: 118  of 300 sample #: 199 reconstruction error: 0.076302\n",
            "Epoch: 0 batch #: 119  of 300 sample #: 199 reconstruction error: 0.123403\n",
            "Epoch: 0 batch #: 120  of 300 sample #: 199 reconstruction error: 0.076446\n",
            "Epoch: 0 batch #: 121  of 300 sample #: 199 reconstruction error: 0.057183\n",
            "Epoch: 0 batch #: 122  of 300 sample #: 199 reconstruction error: 0.083070\n",
            "Epoch: 0 batch #: 123  of 300 sample #: 199 reconstruction error: 0.051683\n",
            "Epoch: 0 batch #: 124  of 300 sample #: 199 reconstruction error: 0.065281\n",
            "Epoch: 0 batch #: 125  of 300 sample #: 199 reconstruction error: 0.041180\n",
            "Epoch: 0 batch #: 126  of 300 sample #: 199 reconstruction error: 0.088549\n",
            "Epoch: 0 batch #: 127  of 300 sample #: 199 reconstruction error: 0.081516\n",
            "Epoch: 0 batch #: 128  of 300 sample #: 199 reconstruction error: 0.066411\n",
            "Epoch: 0 batch #: 129  of 300 sample #: 199 reconstruction error: 0.060104\n",
            "Epoch: 0 batch #: 130  of 300 sample #: 199 reconstruction error: 0.076699\n",
            "Epoch: 0 batch #: 131  of 300 sample #: 199 reconstruction error: 0.067639\n",
            "Epoch: 0 batch #: 132  of 300 sample #: 199 reconstruction error: 0.049797\n",
            "Epoch: 0 batch #: 133  of 300 sample #: 199 reconstruction error: 0.060076\n",
            "Epoch: 0 batch #: 134  of 300 sample #: 199 reconstruction error: 0.106126\n",
            "Epoch: 0 batch #: 135  of 300 sample #: 199 reconstruction error: 0.091677\n",
            "Epoch: 0 batch #: 136  of 300 sample #: 199 reconstruction error: 0.101044\n",
            "Epoch: 0 batch #: 137  of 300 sample #: 199 reconstruction error: 0.063924\n",
            "Epoch: 0 batch #: 138  of 300 sample #: 199 reconstruction error: 0.063363\n",
            "Epoch: 0 batch #: 139  of 300 sample #: 199 reconstruction error: 0.081508\n",
            "Epoch: 0 batch #: 140  of 300 sample #: 199 reconstruction error: 0.078677\n",
            "Epoch: 0 batch #: 141  of 300 sample #: 199 reconstruction error: 0.091694\n",
            "Epoch: 0 batch #: 142  of 300 sample #: 199 reconstruction error: 0.071105\n",
            "Epoch: 0 batch #: 143  of 300 sample #: 199 reconstruction error: 0.058812\n",
            "Epoch: 0 batch #: 144  of 300 sample #: 199 reconstruction error: 0.069023\n",
            "Epoch: 0 batch #: 145  of 300 sample #: 199 reconstruction error: 0.095908\n",
            "Epoch: 0 batch #: 146  of 300 sample #: 199 reconstruction error: 0.115464\n",
            "Epoch: 0 batch #: 147  of 300 sample #: 199 reconstruction error: 0.082070\n",
            "Epoch: 0 batch #: 148  of 300 sample #: 199 reconstruction error: 0.075935\n",
            "Epoch: 0 batch #: 149  of 300 sample #: 199 reconstruction error: 0.054932\n",
            "Epoch: 0 batch #: 150  of 300 sample #: 199 reconstruction error: 0.041749\n",
            "Epoch: 0 batch #: 151  of 300 sample #: 199 reconstruction error: 0.128335\n",
            "Epoch: 0 batch #: 152  of 300 sample #: 199 reconstruction error: 0.077987\n",
            "Epoch: 0 batch #: 153  of 300 sample #: 199 reconstruction error: 0.060407\n",
            "Epoch: 0 batch #: 154  of 300 sample #: 199 reconstruction error: 0.064719\n",
            "Epoch: 0 batch #: 155  of 300 sample #: 199 reconstruction error: 0.065359\n",
            "Epoch: 0 batch #: 156  of 300 sample #: 199 reconstruction error: 0.065203\n",
            "Epoch: 0 batch #: 157  of 300 sample #: 199 reconstruction error: 0.086296\n",
            "Epoch: 0 batch #: 158  of 300 sample #: 199 reconstruction error: 0.062326\n",
            "Epoch: 0 batch #: 159  of 300 sample #: 199 reconstruction error: 0.059126\n",
            "Epoch: 0 batch #: 160  of 300 sample #: 199 reconstruction error: 0.072319\n",
            "Epoch: 0 batch #: 161  of 300 sample #: 199 reconstruction error: 0.069940\n",
            "Epoch: 0 batch #: 162  of 300 sample #: 199 reconstruction error: 0.105075\n",
            "Epoch: 0 batch #: 163  of 300 sample #: 199 reconstruction error: 0.043218\n",
            "Epoch: 0 batch #: 164  of 300 sample #: 199 reconstruction error: 0.065255\n",
            "Epoch: 0 batch #: 165  of 300 sample #: 199 reconstruction error: 0.077544\n",
            "Epoch: 0 batch #: 166  of 300 sample #: 199 reconstruction error: 0.056819\n",
            "Epoch: 0 batch #: 167  of 300 sample #: 199 reconstruction error: 0.095648\n",
            "Epoch: 0 batch #: 168  of 300 sample #: 199 reconstruction error: 0.062462\n",
            "Epoch: 0 batch #: 169  of 300 sample #: 199 reconstruction error: 0.041503\n",
            "Epoch: 0 batch #: 170  of 300 sample #: 199 reconstruction error: 0.053506\n",
            "Epoch: 0 batch #: 171  of 300 sample #: 199 reconstruction error: 0.031896\n",
            "Epoch: 0 batch #: 172  of 300 sample #: 199 reconstruction error: 0.047766\n",
            "Epoch: 0 batch #: 173  of 300 sample #: 199 reconstruction error: 0.072664\n",
            "Epoch: 0 batch #: 174  of 300 sample #: 199 reconstruction error: 0.096393\n",
            "Epoch: 0 batch #: 175  of 300 sample #: 199 reconstruction error: 0.072333\n",
            "Epoch: 0 batch #: 176  of 300 sample #: 199 reconstruction error: 0.044776\n",
            "Epoch: 0 batch #: 177  of 300 sample #: 199 reconstruction error: 0.051618\n",
            "Epoch: 0 batch #: 178  of 300 sample #: 199 reconstruction error: 0.111287\n",
            "Epoch: 0 batch #: 179  of 300 sample #: 199 reconstruction error: 0.082277\n",
            "Epoch: 0 batch #: 180  of 300 sample #: 199 reconstruction error: 0.090429\n",
            "Epoch: 0 batch #: 181  of 300 sample #: 199 reconstruction error: 0.097388\n",
            "Epoch: 0 batch #: 182  of 300 sample #: 199 reconstruction error: 0.079562\n",
            "Epoch: 0 batch #: 183  of 300 sample #: 199 reconstruction error: 0.089066\n",
            "Epoch: 0 batch #: 184  of 300 sample #: 199 reconstruction error: 0.052804\n",
            "Epoch: 0 batch #: 185  of 300 sample #: 199 reconstruction error: 0.095807\n",
            "Epoch: 0 batch #: 186  of 300 sample #: 199 reconstruction error: 0.112278\n",
            "Epoch: 0 batch #: 187  of 300 sample #: 199 reconstruction error: 0.051701\n",
            "Epoch: 0 batch #: 188  of 300 sample #: 199 reconstruction error: 0.100196\n",
            "Epoch: 0 batch #: 189  of 300 sample #: 199 reconstruction error: 0.079762\n",
            "Epoch: 0 batch #: 190  of 300 sample #: 199 reconstruction error: 0.068575\n",
            "Epoch: 0 batch #: 191  of 300 sample #: 199 reconstruction error: 0.111985\n",
            "Epoch: 0 batch #: 192  of 300 sample #: 199 reconstruction error: 0.145479\n",
            "Epoch: 0 batch #: 193  of 300 sample #: 199 reconstruction error: 0.098122\n",
            "Epoch: 0 batch #: 194  of 300 sample #: 199 reconstruction error: 0.099757\n",
            "Epoch: 0 batch #: 195  of 300 sample #: 199 reconstruction error: 0.046128\n",
            "Epoch: 0 batch #: 196  of 300 sample #: 199 reconstruction error: 0.054591\n",
            "Epoch: 0 batch #: 197  of 300 sample #: 199 reconstruction error: 0.064909\n",
            "Epoch: 0 batch #: 198  of 300 sample #: 199 reconstruction error: 0.086182\n",
            "Epoch: 0 batch #: 199  of 300 sample #: 199 reconstruction error: 0.074457\n",
            "Epoch: 0 batch #: 200  of 300 sample #: 199 reconstruction error: 0.114161\n",
            "Epoch: 0 batch #: 201  of 300 sample #: 199 reconstruction error: 0.103473\n",
            "Epoch: 0 batch #: 202  of 300 sample #: 199 reconstruction error: 0.029189\n",
            "Epoch: 0 batch #: 203  of 300 sample #: 199 reconstruction error: 0.090802\n",
            "Epoch: 0 batch #: 204  of 300 sample #: 199 reconstruction error: 0.053590\n",
            "Epoch: 0 batch #: 205  of 300 sample #: 199 reconstruction error: 0.025312\n",
            "Epoch: 0 batch #: 206  of 300 sample #: 199 reconstruction error: 0.066749\n",
            "Epoch: 0 batch #: 207  of 300 sample #: 199 reconstruction error: 0.068192\n",
            "Epoch: 0 batch #: 208  of 300 sample #: 199 reconstruction error: 0.044056\n",
            "Epoch: 0 batch #: 209  of 300 sample #: 199 reconstruction error: 0.026224\n",
            "Epoch: 0 batch #: 210  of 300 sample #: 199 reconstruction error: 0.092559\n",
            "Epoch: 0 batch #: 211  of 300 sample #: 199 reconstruction error: 0.092374\n",
            "Epoch: 0 batch #: 212  of 300 sample #: 199 reconstruction error: 0.096202\n",
            "Epoch: 0 batch #: 213  of 300 sample #: 199 reconstruction error: 0.095651\n",
            "Epoch: 0 batch #: 214  of 300 sample #: 199 reconstruction error: 0.103354\n",
            "Epoch: 0 batch #: 215  of 300 sample #: 199 reconstruction error: 0.033374\n",
            "Epoch: 0 batch #: 216  of 300 sample #: 199 reconstruction error: 0.093174\n",
            "Epoch: 0 batch #: 217  of 300 sample #: 199 reconstruction error: 0.087634\n",
            "Epoch: 0 batch #: 218  of 300 sample #: 199 reconstruction error: 0.073644\n",
            "Epoch: 0 batch #: 219  of 300 sample #: 199 reconstruction error: 0.076868\n",
            "Epoch: 0 batch #: 220  of 300 sample #: 199 reconstruction error: 0.057700\n",
            "Epoch: 0 batch #: 221  of 300 sample #: 199 reconstruction error: 0.093545\n",
            "Epoch: 0 batch #: 222  of 300 sample #: 199 reconstruction error: 0.103828\n",
            "Epoch: 0 batch #: 223  of 300 sample #: 199 reconstruction error: 0.066666\n",
            "Epoch: 0 batch #: 224  of 300 sample #: 199 reconstruction error: 0.064761\n",
            "Epoch: 0 batch #: 225  of 300 sample #: 199 reconstruction error: 0.066452\n",
            "Epoch: 0 batch #: 226  of 300 sample #: 199 reconstruction error: 0.111421\n",
            "Epoch: 0 batch #: 227  of 300 sample #: 199 reconstruction error: 0.067762\n",
            "Epoch: 0 batch #: 228  of 300 sample #: 199 reconstruction error: 0.077595\n",
            "Epoch: 0 batch #: 229  of 300 sample #: 199 reconstruction error: 0.074119\n",
            "Epoch: 0 batch #: 230  of 300 sample #: 199 reconstruction error: 0.028416\n",
            "Epoch: 0 batch #: 231  of 300 sample #: 199 reconstruction error: 0.033763\n",
            "Epoch: 0 batch #: 232  of 300 sample #: 199 reconstruction error: 0.074496\n",
            "Epoch: 0 batch #: 233  of 300 sample #: 199 reconstruction error: 0.080099\n",
            "Epoch: 0 batch #: 234  of 300 sample #: 199 reconstruction error: 0.059675\n",
            "Epoch: 0 batch #: 235  of 300 sample #: 199 reconstruction error: 0.064173\n",
            "Epoch: 0 batch #: 236  of 300 sample #: 199 reconstruction error: 0.092288\n",
            "Epoch: 0 batch #: 237  of 300 sample #: 199 reconstruction error: 0.071577\n",
            "Epoch: 0 batch #: 238  of 300 sample #: 199 reconstruction error: 0.117541\n",
            "Epoch: 0 batch #: 239  of 300 sample #: 199 reconstruction error: 0.029861\n",
            "Epoch: 0 batch #: 240  of 300 sample #: 199 reconstruction error: 0.097251\n",
            "Epoch: 0 batch #: 241  of 300 sample #: 199 reconstruction error: 0.084851\n",
            "Epoch: 0 batch #: 242  of 300 sample #: 199 reconstruction error: 0.072606\n",
            "Epoch: 0 batch #: 243  of 300 sample #: 199 reconstruction error: 0.079149\n",
            "Epoch: 0 batch #: 244  of 300 sample #: 199 reconstruction error: 0.075516\n",
            "Epoch: 0 batch #: 245  of 300 sample #: 199 reconstruction error: 0.066095\n",
            "Epoch: 0 batch #: 246  of 300 sample #: 199 reconstruction error: 0.081867\n",
            "Epoch: 0 batch #: 247  of 300 sample #: 199 reconstruction error: 0.054323\n",
            "Epoch: 0 batch #: 248  of 300 sample #: 199 reconstruction error: 0.066146\n",
            "Epoch: 0 batch #: 249  of 300 sample #: 199 reconstruction error: 0.043280\n",
            "Epoch: 0 batch #: 250  of 300 sample #: 199 reconstruction error: 0.081604\n",
            "Epoch: 0 batch #: 251  of 300 sample #: 199 reconstruction error: 0.052548\n",
            "Epoch: 0 batch #: 252  of 300 sample #: 199 reconstruction error: 0.073273\n",
            "Epoch: 0 batch #: 253  of 300 sample #: 199 reconstruction error: 0.062393\n",
            "Epoch: 0 batch #: 254  of 300 sample #: 199 reconstruction error: 0.035135\n",
            "Epoch: 0 batch #: 255  of 300 sample #: 199 reconstruction error: 0.057929\n",
            "Epoch: 0 batch #: 256  of 300 sample #: 199 reconstruction error: 0.088964\n",
            "Epoch: 0 batch #: 257  of 300 sample #: 199 reconstruction error: 0.068140\n",
            "Epoch: 0 batch #: 258  of 300 sample #: 199 reconstruction error: 0.082276\n",
            "Epoch: 0 batch #: 259  of 300 sample #: 199 reconstruction error: 0.089319\n",
            "Epoch: 0 batch #: 260  of 300 sample #: 199 reconstruction error: 0.109418\n",
            "Epoch: 0 batch #: 261  of 300 sample #: 199 reconstruction error: 0.031891\n",
            "Epoch: 0 batch #: 262  of 300 sample #: 199 reconstruction error: 0.046725\n",
            "Epoch: 0 batch #: 263  of 300 sample #: 199 reconstruction error: 0.083289\n",
            "Epoch: 0 batch #: 264  of 300 sample #: 199 reconstruction error: 0.071303\n",
            "Epoch: 0 batch #: 265  of 300 sample #: 199 reconstruction error: 0.073335\n",
            "Epoch: 0 batch #: 266  of 300 sample #: 199 reconstruction error: 0.030782\n",
            "Epoch: 0 batch #: 267  of 300 sample #: 199 reconstruction error: 0.056947\n",
            "Epoch: 0 batch #: 268  of 300 sample #: 199 reconstruction error: 0.019963\n",
            "Epoch: 0 batch #: 269  of 300 sample #: 199 reconstruction error: 0.095396\n",
            "Epoch: 0 batch #: 270  of 300 sample #: 199 reconstruction error: 0.083442\n",
            "Epoch: 0 batch #: 271  of 300 sample #: 199 reconstruction error: 0.063230\n",
            "Epoch: 0 batch #: 272  of 300 sample #: 199 reconstruction error: 0.071715\n",
            "Epoch: 0 batch #: 273  of 300 sample #: 199 reconstruction error: 0.054822\n",
            "Epoch: 0 batch #: 274  of 300 sample #: 199 reconstruction error: 0.049840\n",
            "Epoch: 0 batch #: 275  of 300 sample #: 199 reconstruction error: 0.093353\n",
            "Epoch: 0 batch #: 276  of 300 sample #: 199 reconstruction error: 0.079129\n",
            "Epoch: 0 batch #: 277  of 300 sample #: 199 reconstruction error: 0.069783\n",
            "Epoch: 0 batch #: 278  of 300 sample #: 199 reconstruction error: 0.066568\n",
            "Epoch: 0 batch #: 279  of 300 sample #: 199 reconstruction error: 0.054582\n",
            "Epoch: 0 batch #: 280  of 300 sample #: 199 reconstruction error: 0.062183\n",
            "Epoch: 0 batch #: 281  of 300 sample #: 199 reconstruction error: 0.076820\n",
            "Epoch: 0 batch #: 282  of 300 sample #: 199 reconstruction error: 0.107347\n",
            "Epoch: 0 batch #: 283  of 300 sample #: 199 reconstruction error: 0.047422\n",
            "Epoch: 0 batch #: 284  of 300 sample #: 199 reconstruction error: 0.060636\n",
            "Epoch: 0 batch #: 285  of 300 sample #: 199 reconstruction error: 0.065746\n",
            "Epoch: 0 batch #: 286  of 300 sample #: 199 reconstruction error: 0.084039\n",
            "Epoch: 0 batch #: 287  of 300 sample #: 199 reconstruction error: 0.069574\n",
            "Epoch: 0 batch #: 288  of 300 sample #: 199 reconstruction error: 0.019629\n",
            "Epoch: 0 batch #: 289  of 300 sample #: 199 reconstruction error: 0.081610\n",
            "Epoch: 0 batch #: 290  of 300 sample #: 199 reconstruction error: 0.092616\n",
            "Epoch: 0 batch #: 291  of 300 sample #: 199 reconstruction error: 0.079311\n",
            "Epoch: 0 batch #: 292  of 300 sample #: 199 reconstruction error: 0.075289\n",
            "Epoch: 0 batch #: 293  of 300 sample #: 199 reconstruction error: 0.055415\n",
            "Epoch: 0 batch #: 294  of 300 sample #: 199 reconstruction error: 0.088619\n",
            "Epoch: 0 batch #: 295  of 300 sample #: 199 reconstruction error: 0.063337\n",
            "Epoch: 0 batch #: 296  of 300 sample #: 199 reconstruction error: 0.021947\n",
            "Epoch: 0 batch #: 297  of 300 sample #: 199 reconstruction error: 0.127001\n",
            "Epoch: 0 batch #: 298  of 300 sample #: 199 reconstruction error: 0.057874\n",
            "Epoch: 0 batch #: 299  of 300 sample #: 199 reconstruction error: 0.052967\n",
            "Epoch: 0 batch #: 300  of 300 sample #: 199 reconstruction error: 0.072360\n"
          ]
        }
      ]
    },
    {
      "cell_type": "code",
      "source": [
        "# Let's take a look at the errors at the end of each batch:\n",
        "import matplotlib.pyplot as plt\n",
        "plt.plot(errors)\n",
        "plt.xlabel(\"Batch Number\")\n",
        "plt.ylabel(\"Error\")\n",
        "plt.show()"
      ],
      "metadata": {
        "colab": {
          "base_uri": "https://localhost:8080/",
          "height": 449
        },
        "id": "8zgnSutw21vp",
        "outputId": "d13ad807-f566-42bd-f08c-48fb062c7f6e"
      },
      "execution_count": 24,
      "outputs": [
        {
          "output_type": "display_data",
          "data": {
            "text/plain": [
              "<Figure size 640x480 with 1 Axes>"
            ],
            "image/png": "[encoded data removed]"
          },
          "metadata": {}
        }
      ]
    },
    {
      "cell_type": "code",
      "source": [
        "#  final weight matrix  𝑊 after training?"
      ],
      "metadata": {
        "id": "_ETPo82T2_TJ"
      },
      "execution_count": null,
      "outputs": []
    },
    {
      "cell_type": "code",
      "source": [
        "print(W.numpy()) # a weight matrix of shape (50,784)"
      ],
      "metadata": {
        "colab": {
          "base_uri": "https://localhost:8080/"
        },
        "id": "E3MLWRtI3C_W",
        "outputId": "76543e3a-db4c-48c3-d47e-41855c57e32e"
      },
      "execution_count": 25,
      "outputs": [
        {
          "output_type": "stream",
          "name": "stdout",
          "text": [
            "[[-0.41999987 -0.30999997 -0.46999982 ... -0.28       -0.57999974\n",
            "  -0.44999984]\n",
            " [-0.42999986 -0.31999996 -0.40999988 ... -0.28       -0.44999984\n",
            "  -0.45999983]\n",
            " [-0.3799999  -0.29999998 -0.4799998  ... -0.29       -0.5299998\n",
            "  -0.43999985]\n",
            " ...\n",
            " [-0.41999987 -0.34999993 -0.41999987 ... -0.22000003 -0.5099998\n",
            "  -0.45999983]\n",
            " [-0.44999984 -0.26000002 -0.43999985 ... -0.27       -0.55999976\n",
            "  -0.41999987]\n",
            " [-0.3899999  -0.31999996 -0.46999982 ... -0.18       -0.5099998\n",
            "  -0.43999985]]\n"
          ]
        }
      ]
    },
    {
      "cell_type": "code",
      "source": [
        "# Learned features-We can take each hidden unit and visualize the connections between that hidden unit and each element in the input vector. In our case, we have 50 hidden units. Lets visualize those.Let's plot the current weights: tile_raster_images helps in generating an easy to grasp image from a set of samples or weights. It transforms the uw (with one flattened image per row of size 784), into an array (of size  28×28\n",
        "#  ) in which images are reshaped and laid out like tiles on a floor"
      ],
      "metadata": {
        "id": "YC7rWNaC3TXh"
      },
      "execution_count": null,
      "outputs": []
    },
    {
      "cell_type": "code",
      "source": [
        "!pip install theano\n",
        "import theano\n",
        "self.ctor = getattr(np, o_type.dtype)\n",
        "\n"
      ],
      "metadata": {
        "colab": {
          "base_uri": "https://localhost:8080/",
          "height": 423
        },
        "id": "efdnvsn94OBr",
        "outputId": "6d097dbd-7870-4498-d53f-887f1a48a851"
      },
      "execution_count": null,
      "outputs": [
        {
          "output_type": "stream",
          "name": "stdout",
          "text": [
            "Requirement already satisfied: theano in /usr/local/lib/python3.10/dist-packages (1.0.5)\n",
            "Requirement already satisfied: numpy>=1.9.1 in /usr/local/lib/python3.10/dist-packages (from theano) (1.25.2)\n",
            "Requirement already satisfied: scipy>=0.14 in /usr/local/lib/python3.10/dist-packages (from theano) (1.11.4)\n",
            "Requirement already satisfied: six>=1.9.0 in /usr/local/lib/python3.10/dist-packages (from theano) (1.16.0)\n"
          ]
        },
        {
          "output_type": "error",
          "ename": "AttributeError",
          "evalue": "partially initialized module 'theano' has no attribute 'compile' (most likely due to a circular import)",
          "traceback": [
            "\u001b[0;31m---------------------------------------------------------------------------\u001b[0m",
            "\u001b[0;31mAttributeError\u001b[0m                            Traceback (most recent call last)",
            "\u001b[0;32m<ipython-input-32-58ef0f6dafed>\u001b[0m in \u001b[0;36m<cell line: 2>\u001b[0;34m()\u001b[0m\n\u001b[1;32m      1\u001b[0m \u001b[0mget_ipython\u001b[0m\u001b[0;34m(\u001b[0m\u001b[0;34m)\u001b[0m\u001b[0;34m.\u001b[0m\u001b[0msystem\u001b[0m\u001b[0;34m(\u001b[0m\u001b[0;34m'pip install theano'\u001b[0m\u001b[0;34m)\u001b[0m\u001b[0;34m\u001b[0m\u001b[0;34m\u001b[0m\u001b[0m\n\u001b[0;32m----> 2\u001b[0;31m \u001b[0;32mimport\u001b[0m \u001b[0mtheano\u001b[0m\u001b[0;34m\u001b[0m\u001b[0;34m\u001b[0m\u001b[0m\n\u001b[0m\u001b[1;32m      3\u001b[0m \u001b[0mself\u001b[0m\u001b[0;34m.\u001b[0m\u001b[0mctor\u001b[0m \u001b[0;34m=\u001b[0m \u001b[0mgetattr\u001b[0m\u001b[0;34m(\u001b[0m\u001b[0mnp\u001b[0m\u001b[0;34m,\u001b[0m \u001b[0mo_type\u001b[0m\u001b[0;34m.\u001b[0m\u001b[0mdtype\u001b[0m\u001b[0;34m)\u001b[0m\u001b[0;34m\u001b[0m\u001b[0;34m\u001b[0m\u001b[0m\n\u001b[1;32m      4\u001b[0m \u001b[0;34m\u001b[0m\u001b[0m\n",
            "\u001b[0;32m/usr/local/lib/python3.10/dist-packages/theano/__init__.py\u001b[0m in \u001b[0;36m<module>\u001b[0;34m\u001b[0m\n\u001b[1;32m    122\u001b[0m \u001b[0;32mfrom\u001b[0m \u001b[0mtheano\u001b[0m\u001b[0;34m.\u001b[0m\u001b[0mprinting\u001b[0m \u001b[0;32mimport\u001b[0m \u001b[0mpprint\u001b[0m\u001b[0;34m,\u001b[0m \u001b[0mpp\u001b[0m\u001b[0;34m\u001b[0m\u001b[0;34m\u001b[0m\u001b[0m\n\u001b[1;32m    123\u001b[0m \u001b[0;34m\u001b[0m\u001b[0m\n\u001b[0;32m--> 124\u001b[0;31m from theano.scan_module import (scan, map, reduce, foldl, foldr, clone,\n\u001b[0m\u001b[1;32m    125\u001b[0m                                 scan_checkpoints)\n\u001b[1;32m    126\u001b[0m \u001b[0;34m\u001b[0m\u001b[0m\n",
            "\u001b[0;32m/usr/local/lib/python3.10/dist-packages/theano/scan_module/__init__.py\u001b[0m in \u001b[0;36m<module>\u001b[0;34m\u001b[0m\n\u001b[1;32m     39\u001b[0m \u001b[0m__contact__\u001b[0m \u001b[0;34m=\u001b[0m \u001b[0;34m\"Razvan Pascanu <r.pascanu@gmail>\"\u001b[0m\u001b[0;34m\u001b[0m\u001b[0;34m\u001b[0m\u001b[0m\n\u001b[1;32m     40\u001b[0m \u001b[0;34m\u001b[0m\u001b[0m\n\u001b[0;32m---> 41\u001b[0;31m \u001b[0;32mfrom\u001b[0m \u001b[0mtheano\u001b[0m\u001b[0;34m.\u001b[0m\u001b[0mscan_module\u001b[0m \u001b[0;32mimport\u001b[0m \u001b[0mscan_opt\u001b[0m\u001b[0;34m\u001b[0m\u001b[0;34m\u001b[0m\u001b[0m\n\u001b[0m\u001b[1;32m     42\u001b[0m \u001b[0;32mfrom\u001b[0m \u001b[0mtheano\u001b[0m\u001b[0;34m.\u001b[0m\u001b[0mscan_module\u001b[0m\u001b[0;34m.\u001b[0m\u001b[0mscan\u001b[0m \u001b[0;32mimport\u001b[0m \u001b[0mscan\u001b[0m\u001b[0;34m\u001b[0m\u001b[0;34m\u001b[0m\u001b[0m\n\u001b[1;32m     43\u001b[0m \u001b[0;32mfrom\u001b[0m \u001b[0mtheano\u001b[0m\u001b[0;34m.\u001b[0m\u001b[0mscan_module\u001b[0m\u001b[0;34m.\u001b[0m\u001b[0mscan_checkpoints\u001b[0m \u001b[0;32mimport\u001b[0m \u001b[0mscan_checkpoints\u001b[0m\u001b[0;34m\u001b[0m\u001b[0;34m\u001b[0m\u001b[0m\n",
            "\u001b[0;32m/usr/local/lib/python3.10/dist-packages/theano/scan_module/scan_opt.py\u001b[0m in \u001b[0;36m<module>\u001b[0;34m\u001b[0m\n\u001b[1;32m     58\u001b[0m \u001b[0;34m\u001b[0m\u001b[0m\n\u001b[1;32m     59\u001b[0m \u001b[0;32mimport\u001b[0m \u001b[0mtheano\u001b[0m\u001b[0;34m\u001b[0m\u001b[0;34m\u001b[0m\u001b[0m\n\u001b[0;32m---> 60\u001b[0;31m \u001b[0;32mfrom\u001b[0m \u001b[0mtheano\u001b[0m \u001b[0;32mimport\u001b[0m \u001b[0mtensor\u001b[0m\u001b[0;34m,\u001b[0m \u001b[0mscalar\u001b[0m\u001b[0;34m\u001b[0m\u001b[0;34m\u001b[0m\u001b[0m\n\u001b[0m\u001b[1;32m     61\u001b[0m \u001b[0;32mfrom\u001b[0m \u001b[0mtheano\u001b[0m\u001b[0;34m.\u001b[0m\u001b[0mtensor\u001b[0m \u001b[0;32mimport\u001b[0m \u001b[0mopt\u001b[0m\u001b[0;34m,\u001b[0m \u001b[0mget_scalar_constant_value\u001b[0m\u001b[0;34m,\u001b[0m \u001b[0mAlloc\u001b[0m\u001b[0;34m,\u001b[0m \u001b[0mAllocEmpty\u001b[0m\u001b[0;34m\u001b[0m\u001b[0;34m\u001b[0m\u001b[0m\n\u001b[1;32m     62\u001b[0m \u001b[0;32mfrom\u001b[0m \u001b[0mtheano\u001b[0m \u001b[0;32mimport\u001b[0m \u001b[0mgof\u001b[0m\u001b[0;34m\u001b[0m\u001b[0;34m\u001b[0m\u001b[0m\n",
            "\u001b[0;32m/usr/local/lib/python3.10/dist-packages/theano/tensor/__init__.py\u001b[0m in \u001b[0;36m<module>\u001b[0;34m\u001b[0m\n\u001b[1;32m      6\u001b[0m \u001b[0;32mimport\u001b[0m \u001b[0mwarnings\u001b[0m\u001b[0;34m\u001b[0m\u001b[0;34m\u001b[0m\u001b[0m\n\u001b[1;32m      7\u001b[0m \u001b[0;34m\u001b[0m\u001b[0m\n\u001b[0;32m----> 8\u001b[0;31m \u001b[0;32mfrom\u001b[0m \u001b[0mtheano\u001b[0m\u001b[0;34m.\u001b[0m\u001b[0mtensor\u001b[0m\u001b[0;34m.\u001b[0m\u001b[0mbasic\u001b[0m \u001b[0;32mimport\u001b[0m \u001b[0;34m*\u001b[0m\u001b[0;34m\u001b[0m\u001b[0;34m\u001b[0m\u001b[0m\n\u001b[0m\u001b[1;32m      9\u001b[0m \u001b[0;32mfrom\u001b[0m \u001b[0mtheano\u001b[0m\u001b[0;34m.\u001b[0m\u001b[0mtensor\u001b[0m\u001b[0;34m.\u001b[0m\u001b[0msubtensor\u001b[0m \u001b[0;32mimport\u001b[0m \u001b[0;34m*\u001b[0m\u001b[0;34m\u001b[0m\u001b[0;34m\u001b[0m\u001b[0m\n\u001b[1;32m     10\u001b[0m \u001b[0;32mfrom\u001b[0m \u001b[0mtheano\u001b[0m\u001b[0;34m.\u001b[0m\u001b[0mtensor\u001b[0m\u001b[0;34m.\u001b[0m\u001b[0mtype_other\u001b[0m \u001b[0;32mimport\u001b[0m \u001b[0;34m*\u001b[0m\u001b[0;34m\u001b[0m\u001b[0;34m\u001b[0m\u001b[0m\n",
            "\u001b[0;32m/usr/local/lib/python3.10/dist-packages/theano/tensor/basic.py\u001b[0m in \u001b[0;36m<module>\u001b[0;34m\u001b[0m\n\u001b[1;32m     18\u001b[0m \u001b[0;32mfrom\u001b[0m \u001b[0mtheano\u001b[0m\u001b[0;34m.\u001b[0m\u001b[0mgof\u001b[0m\u001b[0;34m.\u001b[0m\u001b[0mtype\u001b[0m \u001b[0;32mimport\u001b[0m \u001b[0mGeneric\u001b[0m\u001b[0;34m\u001b[0m\u001b[0;34m\u001b[0m\u001b[0m\n\u001b[1;32m     19\u001b[0m \u001b[0;34m\u001b[0m\u001b[0m\n\u001b[0;32m---> 20\u001b[0;31m \u001b[0;32mfrom\u001b[0m \u001b[0mtheano\u001b[0m\u001b[0;34m.\u001b[0m\u001b[0mscalar\u001b[0m \u001b[0;32mimport\u001b[0m \u001b[0mint32\u001b[0m \u001b[0;32mas\u001b[0m \u001b[0mint32_t\u001b[0m\u001b[0;34m\u001b[0m\u001b[0;34m\u001b[0m\u001b[0m\n\u001b[0m\u001b[1;32m     21\u001b[0m \u001b[0;32mfrom\u001b[0m \u001b[0mtheano\u001b[0m\u001b[0;34m.\u001b[0m\u001b[0mtensor\u001b[0m \u001b[0;32mimport\u001b[0m \u001b[0melemwise\u001b[0m\u001b[0;34m\u001b[0m\u001b[0;34m\u001b[0m\u001b[0m\n\u001b[1;32m     22\u001b[0m from theano.tensor.var import (AsTensorError, TensorVariable,\n",
            "\u001b[0;32m/usr/local/lib/python3.10/dist-packages/theano/scalar/__init__.py\u001b[0m in \u001b[0;36m<module>\u001b[0;34m\u001b[0m\n\u001b[1;32m      1\u001b[0m \u001b[0;32mfrom\u001b[0m \u001b[0m__future__\u001b[0m \u001b[0;32mimport\u001b[0m \u001b[0mabsolute_import\u001b[0m\u001b[0;34m,\u001b[0m \u001b[0mprint_function\u001b[0m\u001b[0;34m,\u001b[0m \u001b[0mdivision\u001b[0m\u001b[0;34m\u001b[0m\u001b[0;34m\u001b[0m\u001b[0m\n\u001b[1;32m      2\u001b[0m \u001b[0;34m\u001b[0m\u001b[0m\n\u001b[0;32m----> 3\u001b[0;31m \u001b[0;32mfrom\u001b[0m \u001b[0;34m.\u001b[0m\u001b[0mbasic\u001b[0m \u001b[0;32mimport\u001b[0m \u001b[0;34m*\u001b[0m\u001b[0;34m\u001b[0m\u001b[0;34m\u001b[0m\u001b[0m\n\u001b[0m\u001b[1;32m      4\u001b[0m \u001b[0;34m\u001b[0m\u001b[0m\n\u001b[1;32m      5\u001b[0m \u001b[0;32mfrom\u001b[0m \u001b[0;34m.\u001b[0m\u001b[0mbasic_scipy\u001b[0m \u001b[0;32mimport\u001b[0m \u001b[0;34m*\u001b[0m\u001b[0;34m\u001b[0m\u001b[0;34m\u001b[0m\u001b[0m\n",
            "\u001b[0;32m/usr/local/lib/python3.10/dist-packages/theano/scalar/basic.py\u001b[0m in \u001b[0;36m<module>\u001b[0;34m\u001b[0m\n\u001b[1;32m    654\u001b[0m \u001b[0;34m\u001b[0m\u001b[0m\n\u001b[1;32m    655\u001b[0m \u001b[0;31m# Register C code for ViewOp on Scalars.\u001b[0m\u001b[0;34m\u001b[0m\u001b[0;34m\u001b[0m\u001b[0m\n\u001b[0;32m--> 656\u001b[0;31m theano.compile.register_view_op_c_code(\n\u001b[0m\u001b[1;32m    657\u001b[0m     \u001b[0mScalar\u001b[0m\u001b[0;34m,\u001b[0m\u001b[0;34m\u001b[0m\u001b[0;34m\u001b[0m\u001b[0m\n\u001b[1;32m    658\u001b[0m     \"\"\"\n",
            "\u001b[0;31mAttributeError\u001b[0m: partially initialized module 'theano' has no attribute 'compile' (most likely due to a circular import)"
          ]
        }
      ]
    },
    {
      "cell_type": "code",
      "source": [
        "import cv2\n",
        "\n",
        "def resize_image(image, target_shape=(28, 28)):\n",
        "    return cv2.resize(image, target_shape, interpolation=cv2.INTER_AREA)  # Adjust interpolation as needed\n",
        "\n",
        "# Resize each image in X\n",
        "resized_X = []\n",
        "for image in X:\n",
        "    resized_image = resize_image(image)\n",
        "    resized_X.append(resized_image)\n",
        "\n",
        "# Proceed with your code using resized_X\n"
      ],
      "metadata": {
        "colab": {
          "base_uri": "https://localhost:8080/",
          "height": 399
        },
        "id": "GXS4678K68Xi",
        "outputId": "91617cc7-beba-442d-ca0a-346c4fd441ab"
      },
      "execution_count": null,
      "outputs": [
        {
          "output_type": "error",
          "ename": "error",
          "evalue": "OpenCV(4.8.0) :-1: error: (-5:Bad argument) in function 'resize'\n> Overload resolution failed:\n>  - src is not a numpy array, neither a scalar\n>  - Expected Ptr<cv::UMat> for argument 'src'\n",
          "traceback": [
            "\u001b[0;31m---------------------------------------------------------------------------\u001b[0m",
            "\u001b[0;31merror\u001b[0m                                     Traceback (most recent call last)",
            "\u001b[0;32m<ipython-input-39-0d24df64b847>\u001b[0m in \u001b[0;36m<cell line: 8>\u001b[0;34m()\u001b[0m\n\u001b[1;32m      7\u001b[0m \u001b[0mresized_X\u001b[0m \u001b[0;34m=\u001b[0m \u001b[0;34m[\u001b[0m\u001b[0;34m]\u001b[0m\u001b[0;34m\u001b[0m\u001b[0;34m\u001b[0m\u001b[0m\n\u001b[1;32m      8\u001b[0m \u001b[0;32mfor\u001b[0m \u001b[0mimage\u001b[0m \u001b[0;32min\u001b[0m \u001b[0mX\u001b[0m\u001b[0;34m:\u001b[0m\u001b[0;34m\u001b[0m\u001b[0;34m\u001b[0m\u001b[0m\n\u001b[0;32m----> 9\u001b[0;31m     \u001b[0mresized_image\u001b[0m \u001b[0;34m=\u001b[0m \u001b[0mresize_image\u001b[0m\u001b[0;34m(\u001b[0m\u001b[0mimage\u001b[0m\u001b[0;34m)\u001b[0m\u001b[0;34m\u001b[0m\u001b[0;34m\u001b[0m\u001b[0m\n\u001b[0m\u001b[1;32m     10\u001b[0m     \u001b[0mresized_X\u001b[0m\u001b[0;34m.\u001b[0m\u001b[0mappend\u001b[0m\u001b[0;34m(\u001b[0m\u001b[0mresized_image\u001b[0m\u001b[0;34m)\u001b[0m\u001b[0;34m\u001b[0m\u001b[0;34m\u001b[0m\u001b[0m\n\u001b[1;32m     11\u001b[0m \u001b[0;34m\u001b[0m\u001b[0m\n",
            "\u001b[0;32m<ipython-input-39-0d24df64b847>\u001b[0m in \u001b[0;36mresize_image\u001b[0;34m(image, target_shape)\u001b[0m\n\u001b[1;32m      2\u001b[0m \u001b[0;34m\u001b[0m\u001b[0m\n\u001b[1;32m      3\u001b[0m \u001b[0;32mdef\u001b[0m \u001b[0mresize_image\u001b[0m\u001b[0;34m(\u001b[0m\u001b[0mimage\u001b[0m\u001b[0;34m,\u001b[0m \u001b[0mtarget_shape\u001b[0m\u001b[0;34m=\u001b[0m\u001b[0;34m(\u001b[0m\u001b[0;36m28\u001b[0m\u001b[0;34m,\u001b[0m \u001b[0;36m28\u001b[0m\u001b[0;34m)\u001b[0m\u001b[0;34m)\u001b[0m\u001b[0;34m:\u001b[0m\u001b[0;34m\u001b[0m\u001b[0;34m\u001b[0m\u001b[0m\n\u001b[0;32m----> 4\u001b[0;31m     \u001b[0;32mreturn\u001b[0m \u001b[0mcv2\u001b[0m\u001b[0;34m.\u001b[0m\u001b[0mresize\u001b[0m\u001b[0;34m(\u001b[0m\u001b[0mimage\u001b[0m\u001b[0;34m,\u001b[0m \u001b[0mtarget_shape\u001b[0m\u001b[0;34m,\u001b[0m \u001b[0minterpolation\u001b[0m\u001b[0;34m=\u001b[0m\u001b[0mcv2\u001b[0m\u001b[0;34m.\u001b[0m\u001b[0mINTER_AREA\u001b[0m\u001b[0;34m)\u001b[0m  \u001b[0;31m# Adjust interpolation as needed\u001b[0m\u001b[0;34m\u001b[0m\u001b[0;34m\u001b[0m\u001b[0m\n\u001b[0m\u001b[1;32m      5\u001b[0m \u001b[0;34m\u001b[0m\u001b[0m\n\u001b[1;32m      6\u001b[0m \u001b[0;31m# Resize each image in X\u001b[0m\u001b[0;34m\u001b[0m\u001b[0;34m\u001b[0m\u001b[0m\n",
            "\u001b[0;31merror\u001b[0m: OpenCV(4.8.0) :-1: error: (-5:Bad argument) in function 'resize'\n> Overload resolution failed:\n>  - src is not a numpy array, neither a scalar\n>  - Expected Ptr<cv::UMat> for argument 'src'\n"
          ]
        }
      ]
    },
    {
      "cell_type": "code",
      "source": [
        "# Let's look at one of the learned weights corresponding to one of hidden units for example. In this particular square, the gray color represents weight = 0, and the whiter it is, the more positive the weights are (closer to 1). Conversely, the darker pixels are, the more negative the weights. The positive pixels will increase the probability of activation in hidden units (after multiplying by input/visible pixels), and negative pixels will decrease the probability of a unit hidden to be 1"
      ],
      "metadata": {
        "id": "pJDilB6i7QTN"
      },
      "execution_count": null,
      "outputs": []
    },
    {
      "cell_type": "code",
      "source": [
        "import numpy as np\n",
        "from PIL import Image\n",
        "\n",
        "# Assuming X is a numpy array of your images\n",
        "num_images = X.shape[0]  # Get the number of images\n",
        "rows, cols = 5, 10  # Desired tile shape\n",
        "valid_images = []\n",
        "for i in range(num_images):\n",
        "  if X[i].shape == (28, 28):  # Check for expected shape\n",
        "    valid_images.append(X[i])\n",
        "\n",
        "# Create the tiled image using only valid_images\n",
        "# ... (rest of your code using valid_images)\n",
        "\n",
        "# Create a new image to hold the tiled images\n",
        "tiled_image = np.zeros((rows * 28 + (rows - 1) * 1, cols * 28 + (cols - 1) * 1))\n",
        "\n",
        "# Loop through each image and place it in the tiled image\n",
        "for i in range(num_images):\n",
        "    row = i // cols  # Calculate row position\n",
        "    col = i % cols  # Calculate column position\n",
        "    # tiled_image[row * (28 + 1): (row + 1) * 28 + row * 1, col * (28 + 1): (col + 1) * 28 + col * 1] = X[i]\n",
        "\n",
        "# Convert the tiled image array to PIL Image\n",
        "image = Image.fromarray(tiled_image.astype(np.uint8))\n",
        "\n",
        "\n",
        "print(X.shape)  # Check the overall shape of X (e.g., (num_images, 28, 28))\n",
        "for i in range(num_images):\n",
        "    print(X[i].shape)  # Check the shape of each image in X\n",
        "\n",
        "# Each tile in the above visualization corresponds to a vector of connections between a hidden unit and visible layer's units."
      ],
      "metadata": {
        "colab": {
          "base_uri": "https://localhost:8080/"
        },
        "id": "MD-OXCSM3enI",
        "outputId": "bb6b9232-78b2-4e5c-8329-26179162fb5e"
      },
      "execution_count": 31,
      "outputs": [
        {
          "output_type": "stream",
          "name": "stdout",
          "text": [
            "(1, 7)\n",
            "(7,)\n"
          ]
        }
      ]
    },
    {
      "cell_type": "code",
      "source": [],
      "metadata": {
        "id": "jeC-VmiV7G8-"
      },
      "execution_count": null,
      "outputs": []
    },
    {
      "cell_type": "code",
      "source": [
        "# from PIL import Image\n",
        "# image = Image.fromarray(tile_raster_images(X =W.numpy().T[10:11], img_shape=(28, 28),tile_shape=(1, 1), tile_spacing=(1, 1)))\n",
        "# ### Plot image\n",
        "# plt.rcParams['figure.figsize'] = (4.0, 4.0)\n",
        "# imgplot = plt.imshow(image)\n",
        "# imgplot.set_cmap('gray')\n",
        "import matplotlib.pyplot as plt\n",
        "import numpy as np\n",
        "\n",
        "# Assuming W is a NumPy array representing your image data\n",
        "image_data = W.numpy().T[10:11]  # Assuming W.shape is (..., C, H, W) and you want the 11th image\n",
        "\n",
        "# Reshape to ensure it's a 2D array (grayscale or RGB)\n",
        "if len(image_data.shape) == 3 and image_data.shape[0] == 1:\n",
        "    image_data = image_data.squeeze(axis=0)  # Remove channel dimension if it has only 1 channel\n",
        "\n",
        "# Plot the image\n",
        "plt.imshow(image_data, cmap='gray' if len(image_data.shape) == 2 else None)  # Use grayscale for single-channel images\n",
        "plt.axis('off')  # Hide axes for cleaner visualization (optional)\n",
        "plt.show()\n"
      ],
      "metadata": {
        "colab": {
          "base_uri": "https://localhost:8080/",
          "height": 37
        },
        "id": "p5vczzlh38XV",
        "outputId": "0661d459-e8e0-4654-cdae-7e7a77b7c924"
      },
      "execution_count": 27,
      "outputs": [
        {
          "output_type": "display_data",
          "data": {
            "text/plain": [
              "<Figure size 640x480 with 1 Axes>"
            ],
            "image/png": "[encoded data removed]"
          },
          "metadata": {}
        }
      ]
    },
    {
      "cell_type": "markdown",
      "source": [
        "Let's look at the reconstruction of an image now. Imagine that we have a destructed image of figure 3. Lets see if our trained network can fix it:\n",
        "\n",
        "First we plot the image:\n"
      ],
      "metadata": {
        "id": "Q8FRTjYE7aHm"
      }
    },
    {
      "cell_type": "code",
      "source": [
        "!wget -O destructed3.jpg  https://ibm.box.com/shared/static/vvm1b63uvuxq88vbw9znpwu5ol380mco.jpg\n",
        "img = Image.open('destructed3.jpg')\n",
        "img"
      ],
      "metadata": {
        "colab": {
          "base_uri": "https://localhost:8080/",
          "height": 671
        },
        "id": "u3CThMVc7csA",
        "outputId": "89d7dbc1-a49b-4dca-e045-aa72c9bae73d"
      },
      "execution_count": null,
      "outputs": [
        {
          "output_type": "stream",
          "name": "stdout",
          "text": [
            "--2024-07-09 14:37:56--  https://ibm.box.com/shared/static/vvm1b63uvuxq88vbw9znpwu5ol380mco.jpg\n",
            "Resolving ibm.box.com (ibm.box.com)... 74.112.186.144\n",
            "Connecting to ibm.box.com (ibm.box.com)|74.112.186.144|:443... connected.\n",
            "HTTP request sent, awaiting response... 301 Moved Permanently\n",
            "Location: /public/static/vvm1b63uvuxq88vbw9znpwu5ol380mco.jpg [following]\n",
            "--2024-07-09 14:37:56--  https://ibm.box.com/public/static/vvm1b63uvuxq88vbw9znpwu5ol380mco.jpg\n",
            "Reusing existing connection to ibm.box.com:443.\n",
            "HTTP request sent, awaiting response... 301 Moved Permanently\n",
            "Location: https://ibm.ent.box.com/public/static/vvm1b63uvuxq88vbw9znpwu5ol380mco.jpg [following]\n",
            "--2024-07-09 14:37:56--  https://ibm.ent.box.com/public/static/vvm1b63uvuxq88vbw9znpwu5ol380mco.jpg\n",
            "Resolving ibm.ent.box.com (ibm.ent.box.com)... 74.112.186.144\n",
            "Connecting to ibm.ent.box.com (ibm.ent.box.com)|74.112.186.144|:443... connected.\n",
            "HTTP request sent, awaiting response... 302 Found\n",
            "Location: https://public.boxcloud.com/d/1/b1!PB5KRyEzrMzAL7SPsXvjqF_S6VK_9SZFI9bpd-4mnXfISnvGYjx-94QrAB6WS3v5rbb_KnhgZfay60iK48uNtx7bwj4m_BBGZObHPf8umsOQGCXIGTxWXUHGJdNc0HWdmcmtm1AhWJABjxo0-S3sS4pvR8yA1grSXrnWsFOTd6BmHjliZiAGYRke3O_B-GRrtBFbcT5hlAoqbOfQKSZ111wHnOn-cIKJnQU7ceCqJG3jTjKtwDVuZlUPgOT9qi6T7wTZ1Rl6nT4cyNbShBXxwDyUz6liQcPmfCg8ybt8EWXV9OoZ_JR9sGGbrAEBynZMp9gxyqkMhZszsI2KQfZ1nm7IA-QHeOW5WBO8YLzFJ418lCP5rYxfPCaTgXzdr9NZBjIJ55DgBCHSOf5WGEutf_hGBBF801gtytrSnX42VTXYmZ3bGR91nwp5M4lbldp5eN9ujp6ubN-sIIkH0OOKgOH9r_PaJa-WNfuq7P0TX9Trtkg1IvzjISVF5K1K0xJgvmURJdn0BmobnjsVDkF8zg5jyaxogzHS5ezGhP7bSrsBuTYY8mFKyKMvJNnNo7rvy79jP_nEVERi1H6727Xa3RNHo7x9Ig92mLHDAEmUWex0KoaaOyo-ZnexqW581ddMdcIQx9EPBGr9RGwXOb_jDcuMyEZDdxhE8-maarU7hfUnmWnvgPlBpzwT3BFCV3jDEQHU2xHpi8lkYRTtu-lfWS7teObV0Ug1o3M6NdaOFBaaDjb8OXAjhTTfsk6t-irNC7y55E0oBPMQVS01jQTZIXiF0Whf9ta0R9uw1l35bfagBbxZHiEKgasJ8Ci_uZFHy0qbrS2OypkJrA1IK5vcPeHzMJ1zoQxm4mT8-_fQ1KHNCqqlzL9rtl1R3BWAgrG-noS4FGqAVDfPLgGiqb1J5sDsFzWtQ_y0-x_NMP8lHlFeSvzFNx8JN5-L31LL-2YrIVdDovFvwCz8wFyF9XnW5OFNTzEiym4FhUQAfRpIYaev0SGTK6TfJhTaepk7lSSPjCgk4vsBfzXL6-B-XfaEhwrW14HtcRTfuZmetez45io3V2US6V3LDDBB-7p9MI496no2R4UtYW8PJj1PSHk6A5QCRzD3CS3-Agxi6S-3eci1mba9D8k0TgaqpFY4f9ze-g_p7-mJY0-L28FE1M0QxcmAJOd-0JG_rN6NtL0hoaHJmJrV64Vmb5ZJ5odlGUngNQ4kSRpY4bJIjMFnko5w-GGZQc0kZHQhljtYMmhiISbH7Jg8t8t9HTTJ1KRZxQ99hjSXSfqtLyvL2NoZ2txk-5-26DVQIe-whwTqoJ2ZqwWHsIC2PrpayxltIqkvjhLDhnGna-mqrsMyHo-1syn2SQfdCEG7I24pNQTwWXj3TvBTEn3979rD2l1_bQoOltZXMmvKGD-DSMEgIPwjZUVhkw../download [following]\n",
            "--2024-07-09 14:37:57--  https://public.boxcloud.com/d/1/b1!PB5KRyEzrMzAL7SPsXvjqF_S6VK_9SZFI9bpd-4mnXfISnvGYjx-94QrAB6WS3v5rbb_KnhgZfay60iK48uNtx7bwj4m_BBGZObHPf8umsOQGCXIGTxWXUHGJdNc0HWdmcmtm1AhWJABjxo0-S3sS4pvR8yA1grSXrnWsFOTd6BmHjliZiAGYRke3O_B-GRrtBFbcT5hlAoqbOfQKSZ111wHnOn-cIKJnQU7ceCqJG3jTjKtwDVuZlUPgOT9qi6T7wTZ1Rl6nT4cyNbShBXxwDyUz6liQcPmfCg8ybt8EWXV9OoZ_JR9sGGbrAEBynZMp9gxyqkMhZszsI2KQfZ1nm7IA-QHeOW5WBO8YLzFJ418lCP5rYxfPCaTgXzdr9NZBjIJ55DgBCHSOf5WGEutf_hGBBF801gtytrSnX42VTXYmZ3bGR91nwp5M4lbldp5eN9ujp6ubN-sIIkH0OOKgOH9r_PaJa-WNfuq7P0TX9Trtkg1IvzjISVF5K1K0xJgvmURJdn0BmobnjsVDkF8zg5jyaxogzHS5ezGhP7bSrsBuTYY8mFKyKMvJNnNo7rvy79jP_nEVERi1H6727Xa3RNHo7x9Ig92mLHDAEmUWex0KoaaOyo-ZnexqW581ddMdcIQx9EPBGr9RGwXOb_jDcuMyEZDdxhE8-maarU7hfUnmWnvgPlBpzwT3BFCV3jDEQHU2xHpi8lkYRTtu-lfWS7teObV0Ug1o3M6NdaOFBaaDjb8OXAjhTTfsk6t-irNC7y55E0oBPMQVS01jQTZIXiF0Whf9ta0R9uw1l35bfagBbxZHiEKgasJ8Ci_uZFHy0qbrS2OypkJrA1IK5vcPeHzMJ1zoQxm4mT8-_fQ1KHNCqqlzL9rtl1R3BWAgrG-noS4FGqAVDfPLgGiqb1J5sDsFzWtQ_y0-x_NMP8lHlFeSvzFNx8JN5-L31LL-2YrIVdDovFvwCz8wFyF9XnW5OFNTzEiym4FhUQAfRpIYaev0SGTK6TfJhTaepk7lSSPjCgk4vsBfzXL6-B-XfaEhwrW14HtcRTfuZmetez45io3V2US6V3LDDBB-7p9MI496no2R4UtYW8PJj1PSHk6A5QCRzD3CS3-Agxi6S-3eci1mba9D8k0TgaqpFY4f9ze-g_p7-mJY0-L28FE1M0QxcmAJOd-0JG_rN6NtL0hoaHJmJrV64Vmb5ZJ5odlGUngNQ4kSRpY4bJIjMFnko5w-GGZQc0kZHQhljtYMmhiISbH7Jg8t8t9HTTJ1KRZxQ99hjSXSfqtLyvL2NoZ2txk-5-26DVQIe-whwTqoJ2ZqwWHsIC2PrpayxltIqkvjhLDhnGna-mqrsMyHo-1syn2SQfdCEG7I24pNQTwWXj3TvBTEn3979rD2l1_bQoOltZXMmvKGD-DSMEgIPwjZUVhkw../download\n",
            "Resolving public.boxcloud.com (public.boxcloud.com)... 74.112.186.128\n",
            "Connecting to public.boxcloud.com (public.boxcloud.com)|74.112.186.128|:443... connected.\n",
            "HTTP request sent, awaiting response... 200 OK\n",
            "Length: 24383 (24K) [image/jpeg]\n",
            "Saving to: ‘destructed3.jpg’\n",
            "\n",
            "destructed3.jpg     100%[===================>]  23.81K  --.-KB/s    in 0s      \n",
            "\n",
            "2024-07-09 14:37:57 (90.7 MB/s) - ‘destructed3.jpg’ saved [24383/24383]\n",
            "\n"
          ]
        },
        {
          "output_type": "execute_result",
          "data": {
            "text/plain": [
              "<PIL.JpegImagePlugin.JpegImageFile image mode=RGB size=181x181>"
            ],
            "image/png": "[encoded data removed]"
          },
          "metadata": {},
          "execution_count": 40
        }
      ]
    },
    {
      "cell_type": "code",
      "source": [
        "# Now let's pass this image through the neural net:\n",
        "# convert the image to a 1d numpy array\n",
        "sample_case = np.array(img.convert('I').resize((28,28))).ravel().reshape((1, -1))/255.0\n",
        "\n",
        "sample_case = tf.cast(sample_case, dtype=tf.float32)"
      ],
      "metadata": {
        "id": "n6Y1qm9Y7iR8"
      },
      "execution_count": null,
      "outputs": []
    },
    {
      "cell_type": "code",
      "source": [
        "# Feed the sample case into the network and reconstruct the output:\n",
        "hh0_p = tf.nn.sigmoid(tf.matmul(sample_case, W) + hb)\n",
        "hh0_s = tf.round(hh0_p)\n",
        "\n",
        "print(\"Probability nodes in hidden layer:\" ,hh0_p)\n",
        "print(\"activated nodes in hidden layer:\" ,hh0_s)\n",
        "\n",
        "# reconstruct\n",
        "vv1_p = tf.nn.sigmoid(tf.matmul(hh0_s, tf.transpose(W)) + vb)\n",
        "\n",
        "print(vv1_p)\n",
        "#rec_prob = sess.run(vv1_p, feed_dict={ hh0_s: hh0_s_val, W: prv_w, vb: prv_vb})"
      ],
      "metadata": {
        "colab": {
          "base_uri": "https://localhost:8080/"
        },
        "id": "iBuoWDdU7now",
        "outputId": "4efb5beb-5f55-43d3-80d3-22f79a00c46e"
      },
      "execution_count": null,
      "outputs": [
        {
          "output_type": "stream",
          "name": "stdout",
          "text": [
            "Probability nodes in hidden layer: tf.Tensor(\n",
            "[[1.8272132e-09 6.1066346e-11 3.9711235e-08 9.9999976e-01 6.0918279e-05\n",
            "  9.9991846e-01 4.8473451e-04 1.8103814e-09 6.3904528e-11 7.4562448e-01\n",
            "  9.9924135e-01 6.0629170e-02 1.9615881e-10 9.9999863e-01 2.0118398e-06\n",
            "  2.5869036e-09 1.7232649e-01 1.0269916e-12 1.0000000e+00 2.9697282e-15\n",
            "  2.7667182e-03 4.4996749e-08 9.9993849e-01 4.8392083e-16 8.7891603e-03\n",
            "  9.9995017e-01 9.9947143e-01 4.1531461e-05 9.9776310e-01 1.5544149e-11\n",
            "  9.9359280e-01 1.4325983e-02 9.9989903e-01 2.2471423e-20 1.3460979e-09\n",
            "  2.5200913e-08 3.5682112e-02 3.8088848e-17 9.9999988e-01 9.2965060e-01\n",
            "  9.9964267e-01 1.8894634e-05 2.7928575e-06 3.1482850e-12 8.9794570e-01\n",
            "  4.8548833e-01 1.2237122e-15 9.9998516e-01 1.0000000e+00 1.0000000e+00]], shape=(1, 50), dtype=float32)\n",
            "activated nodes in hidden layer: tf.Tensor(\n",
            "[[0. 0. 0. 1. 0. 1. 0. 0. 0. 1. 1. 0. 0. 1. 0. 0. 0. 0. 1. 0. 0. 0. 1. 0.\n",
            "  0. 1. 1. 0. 1. 0. 1. 0. 1. 0. 0. 0. 0. 0. 1. 1. 1. 0. 0. 0. 1. 0. 0. 1.\n",
            "  1. 1.]], shape=(1, 50), dtype=float32)\n",
            "tf.Tensor(\n",
            "[[1.57929433e-04 7.09684973e-05 1.48733772e-04 1.17001764e-04\n",
            "  1.24235914e-04 1.28019063e-04 1.53262517e-04 1.64373589e-04\n",
            "  1.54802779e-04 2.06871904e-04 1.37300027e-04 1.90969906e-04\n",
            "  1.09096989e-04 1.56211114e-04 1.35838272e-04 1.69797582e-04\n",
            "  1.51737884e-04 1.85326979e-04 1.28019063e-04 1.22999976e-04\n",
            "  2.11050006e-04 1.94826891e-04 1.56358350e-04 1.20564662e-04\n",
            "  1.57929433e-04 1.45789018e-04 1.09092733e-04 1.28019063e-04\n",
            "  1.94826891e-04 1.89069862e-04 1.64373589e-04 1.11296242e-04\n",
            "  1.57046423e-04 2.43845177e-04 1.42941804e-04 1.47450613e-04\n",
            "  1.37715426e-04 1.09444074e-04 1.43138212e-04 1.55777088e-04\n",
            "  1.83454904e-04 2.49199744e-04 1.01770165e-04 1.84168224e-04\n",
            "  2.32903476e-04 3.05372814e-04 3.92948190e-04 2.76764680e-04\n",
            "  2.75757455e-04 2.37690809e-04 1.65862672e-04 1.28996558e-04\n",
            "  1.72799773e-04 1.45789018e-04 1.56358205e-04 2.08950427e-04\n",
            "  1.13544258e-04 1.98761962e-04 1.38690739e-04 2.14092201e-04\n",
            "  1.48151739e-04 1.55161280e-04 1.79322669e-04 1.12150658e-04\n",
            "  9.08097572e-05 6.15285608e-05 2.08352012e-05 1.55390371e-05\n",
            "  1.63960831e-05 2.07887806e-05 4.94640917e-05 5.83131769e-05\n",
            "  9.84891449e-05 1.24544895e-04 4.80699964e-05 2.54312163e-05\n",
            "  2.63157490e-05 7.13369300e-05 2.46575597e-04 2.05215765e-04\n",
            "  2.43224742e-04 1.67542472e-04 1.90969717e-04 1.41480807e-04\n",
            "  2.82032997e-04 1.38679781e-04 2.07229226e-04 1.21991361e-04\n",
            "  2.08533238e-04 2.56333966e-04 1.88094375e-04 9.71762711e-05\n",
            "  2.95257923e-05 1.09275506e-05 5.26820168e-06 4.55059489e-06\n",
            "  4.43193585e-06 3.12672673e-05 9.66489606e-05 2.74058519e-04\n",
            "  5.80185675e-04 1.05663051e-03 4.81990050e-04 4.76879213e-04\n",
            "  1.70855681e-04 1.60207710e-04 3.91673471e-04 2.28132034e-04\n",
            "  1.42142861e-04 1.89418832e-04 1.73268010e-04 7.76513989e-05\n",
            "  1.79850598e-04 1.97751200e-04 1.39443131e-04 1.74625413e-04\n",
            "  2.24916133e-04 2.69410055e-04 1.47937462e-04 5.82263237e-05\n",
            "  2.47737662e-05 5.25969735e-05 3.54754047e-05 9.51787515e-05\n",
            "  3.75604170e-04 2.01065210e-03 7.07680685e-03 1.78128034e-02\n",
            "  1.20310700e-02 2.30472479e-02 1.14701381e-02 1.42307505e-02\n",
            "  1.11838616e-02 9.93341580e-03 6.85850391e-03 3.96508444e-03\n",
            "  3.12520657e-03 5.34254534e-04 2.58838700e-04 2.32164733e-04\n",
            "  1.06932726e-04 1.48733627e-04 1.84066943e-04 2.09804464e-04\n",
            "  4.22802230e-04 2.24362229e-04 3.31020361e-04 4.28495929e-04\n",
            "  8.15798936e-04 6.94122573e-04 2.57234555e-03 7.95281027e-03\n",
            "  1.10419758e-01 4.06413972e-01 5.56420267e-01 7.27332592e-01\n",
            "  5.82182765e-01 5.78043461e-01 4.08352047e-01 5.86579800e-01\n",
            "  2.92693347e-01 1.49757519e-01 7.16297477e-02 3.26850563e-02\n",
            "  7.92497769e-03 2.86056404e-03 5.50861179e-04 1.54124384e-04\n",
            "  7.68787213e-05 1.22475423e-04 1.76594534e-04 7.25737773e-04\n",
            "  1.10339513e-03 1.08052103e-03 1.47732324e-03 1.75973738e-03\n",
            "  4.06277645e-03 3.76896258e-03 2.10749805e-02 2.42805064e-01\n",
            "  8.48833501e-01 9.45750237e-01 9.69990075e-01 9.49358761e-01\n",
            "  8.90940130e-01 8.82636726e-01 8.37242305e-01 8.92648935e-01\n",
            "  8.67261112e-01 5.46848655e-01 2.62088776e-01 3.32409665e-02\n",
            "  1.08147543e-02 4.21365118e-03 1.18228153e-03 2.09763268e-04\n",
            "  1.14716917e-04 1.11340087e-04 6.57697499e-04 1.24414032e-03\n",
            "  3.96786164e-03 5.46040898e-03 1.22260349e-02 9.27898288e-03\n",
            "  1.52529832e-02 3.32879946e-02 3.07269663e-01 8.54328215e-01\n",
            "  9.72951710e-01 9.89622891e-01 9.90576506e-01 9.20462966e-01\n",
            "  6.41496658e-01 5.16959965e-01 7.21745551e-01 9.44428682e-01\n",
            "  9.71045554e-01 8.22401285e-01 2.02908501e-01 2.30568275e-02\n",
            "  5.64843928e-03 8.40391091e-04 5.53522026e-04 1.28441505e-04\n",
            "  1.33389360e-04 3.24503315e-04 6.94736373e-04 1.37895788e-03\n",
            "  6.64985133e-03 1.47692384e-02 2.71771476e-02 6.20155558e-02\n",
            "  5.93970865e-02 1.55110866e-01 6.58565581e-01 9.69882786e-01\n",
            "  9.93745029e-01 9.89135325e-01 9.09508049e-01 4.33181971e-01\n",
            "  9.54180509e-02 4.13739197e-02 3.09644997e-01 7.26479828e-01\n",
            "  9.52428162e-01 7.44457543e-01 1.71667844e-01 1.01599414e-02\n",
            "  1.06569391e-03 5.49140212e-04 4.88618738e-04 2.40908965e-04\n",
            "  2.07774108e-04 1.54100431e-04 1.36061118e-03 2.66946573e-03\n",
            "  3.18877073e-03 1.04011111e-02 4.46291417e-02 6.97106719e-02\n",
            "  4.48675565e-02 1.55335784e-01 7.14836538e-01 9.26665068e-01\n",
            "  9.24376667e-01 5.37890434e-01 8.00963864e-02 3.11787836e-02\n",
            "  6.94522960e-03 1.55244544e-02 2.79205054e-01 6.80754840e-01\n",
            "  8.54082823e-01 5.89350462e-01 7.90891349e-02 2.53998139e-03\n",
            "  1.22534914e-03 5.53827907e-04 3.17195634e-04 1.68405284e-04\n",
            "  1.91885803e-04 2.94947298e-04 8.96684709e-04 1.86363584e-03\n",
            "  3.63965798e-03 1.45162828e-02 2.21163202e-02 2.13908572e-02\n",
            "  2.35090591e-02 9.49151516e-02 3.88362736e-01 6.51961625e-01\n",
            "  1.76012576e-01 7.54877776e-02 1.38497567e-02 1.83671620e-02\n",
            "  3.53282802e-02 1.91119865e-01 5.03365815e-01 7.57391453e-01\n",
            "  7.10737348e-01 3.43718141e-01 2.92311516e-02 1.50948099e-03\n",
            "  4.68394835e-04 5.04997151e-04 3.11918295e-04 2.85269256e-04\n",
            "  2.23212162e-04 4.68787912e-04 1.01021957e-03 2.03790911e-03\n",
            "  2.64525344e-03 8.43218435e-03 1.68739520e-02 1.08279334e-02\n",
            "  9.21481941e-03 4.41196933e-02 9.71503556e-02 1.05009668e-01\n",
            "  7.46024102e-02 8.53320509e-02 1.03015617e-01 1.18813574e-01\n",
            "  2.61221170e-01 5.56202114e-01 8.17184508e-01 6.78511441e-01\n",
            "  5.81026554e-01 5.01089692e-02 3.06233205e-03 7.72560306e-04\n",
            "  4.68315149e-04 5.69923606e-04 2.93528690e-04 1.58519033e-04\n",
            "  1.15352799e-04 1.44491831e-04 7.91698636e-04 1.13638060e-03\n",
            "  1.48291304e-03 3.38294194e-03 7.01388111e-03 9.03972890e-03\n",
            "  1.66845154e-02 7.46029019e-02 1.86265066e-01 1.85548887e-01\n",
            "  1.38422623e-01 4.05460268e-01 8.04839849e-01 7.08147883e-01\n",
            "  6.57108665e-01 8.45074236e-01 8.45741749e-01 4.63687032e-01\n",
            "  1.43070072e-01 1.48560256e-02 1.48474926e-03 2.92889337e-04\n",
            "  3.49147886e-04 2.84331909e-04 1.96491921e-04 1.59441610e-04\n",
            "  1.15267037e-04 1.69186533e-04 4.28777246e-04 7.37173948e-04\n",
            "  1.39329338e-03 2.27667950e-03 6.25924021e-03 1.07425237e-02\n",
            "  1.19482111e-02 9.60819647e-02 1.20537519e-01 3.71281505e-01\n",
            "  6.58089817e-01 8.77433956e-01 8.27467144e-01 8.30293238e-01\n",
            "  7.80826926e-01 7.99897194e-01 6.03526533e-01 2.36225381e-01\n",
            "  4.26857434e-02 4.31570644e-03 8.44853290e-04 2.19181718e-04\n",
            "  1.72793676e-04 3.50283779e-04 1.68716128e-04 1.11843088e-04\n",
            "  1.49699175e-04 1.62107783e-04 3.21187224e-04 6.78672863e-04\n",
            "  9.68639797e-04 1.31391350e-03 5.25445351e-03 7.35962577e-03\n",
            "  1.91090945e-02 2.94419415e-02 1.26590073e-01 4.11334217e-01\n",
            "  6.32439971e-01 6.68656707e-01 7.70829678e-01 7.24096835e-01\n",
            "  8.11360240e-01 6.87063932e-01 5.70383489e-01 1.08778059e-01\n",
            "  1.46395331e-02 2.87159928e-03 5.43186616e-04 1.95571556e-04\n",
            "  1.36480696e-04 2.14395332e-04 2.31156853e-04 1.87666927e-04\n",
            "  1.35227368e-04 1.14299255e-04 1.64735262e-04 1.03157933e-03\n",
            "  7.74584594e-04 1.94479479e-03 5.43295080e-03 1.23455105e-02\n",
            "  1.21653154e-02 1.52553534e-02 5.11430763e-02 7.87464753e-02\n",
            "  6.38818443e-02 1.72533914e-01 1.56070605e-01 2.96266735e-01\n",
            "  5.67143381e-01 8.21352899e-01 6.70736134e-01 1.84690699e-01\n",
            "  8.86315480e-03 1.07453344e-03 6.75657007e-04 5.01077098e-04\n",
            "  2.77919928e-04 1.51744534e-04 1.68822196e-04 2.06831479e-04\n",
            "  2.08378027e-04 1.96691923e-04 2.77939282e-04 2.35354062e-03\n",
            "  2.11503007e-03 3.03423149e-03 7.73624890e-03 5.98660856e-03\n",
            "  1.41653661e-02 1.08525986e-02 7.11104553e-03 9.21232998e-03\n",
            "  4.07876223e-02 2.10506171e-02 1.99131258e-02 1.07096314e-01\n",
            "  6.68742716e-01 8.30786824e-01 7.52545416e-01 6.28270432e-02\n",
            "  5.62924240e-03 1.25217170e-03 9.04636341e-04 7.20508455e-04\n",
            "  3.74326628e-04 2.16745029e-04 2.48975091e-04 1.44225618e-04\n",
            "  1.22999976e-04 2.94773839e-04 6.35428005e-04 2.88235373e-03\n",
            "  8.94653797e-03 8.60408135e-03 1.13078514e-02 9.21513699e-03\n",
            "  5.57325128e-03 1.42650527e-03 2.93711131e-03 2.09877593e-03\n",
            "  3.24528036e-03 4.74952580e-03 2.07686275e-02 1.51209608e-01\n",
            "  6.30399227e-01 7.81338692e-01 4.54446077e-01 8.55500102e-02\n",
            "  9.43334401e-03 2.04345700e-03 2.48145149e-03 8.12401937e-04\n",
            "  6.70649519e-04 1.70305429e-04 2.47447257e-04 2.31047787e-04\n",
            "  2.22443734e-04 1.77503636e-04 6.33986783e-04 8.02572537e-03\n",
            "  3.47657353e-02 4.03170176e-02 2.40570903e-02 1.62586812e-02\n",
            "  2.56321160e-03 8.84496374e-04 6.52909221e-04 1.95276621e-03\n",
            "  2.62659276e-03 4.31342237e-03 1.92686506e-02 8.92809108e-02\n",
            "  5.25558770e-01 6.76653981e-01 3.85212421e-01 1.03449643e-01\n",
            "  1.82708036e-02 5.15371328e-03 4.08573542e-03 2.42179492e-03\n",
            "  9.62597667e-04 3.03796900e-04 2.97677063e-04 1.03821738e-04\n",
            "  1.29991779e-04 1.56241818e-04 2.69347848e-03 3.11907716e-02\n",
            "  8.37957412e-02 1.54014945e-01 1.20498464e-01 5.40280715e-02\n",
            "  8.49580858e-03 4.88516456e-03 5.02510602e-03 5.86747983e-03\n",
            "  7.97398854e-03 9.50079225e-03 2.46257968e-02 1.50436521e-01\n",
            "  4.46307808e-01 5.37123084e-01 3.49940479e-01 1.38015732e-01\n",
            "  1.28750214e-02 7.92719517e-03 5.97663457e-03 3.84256756e-03\n",
            "  2.35919049e-03 2.58596265e-04 2.16362241e-04 1.51529821e-04\n",
            "  1.98761962e-04 1.90775521e-04 2.65291450e-03 8.16761181e-02\n",
            "  1.75429955e-01 4.10961509e-01 2.97036082e-01 4.85060185e-01\n",
            "  2.77546138e-01 7.09946975e-02 3.91753465e-02 6.57782927e-02\n",
            "  2.93022990e-02 4.34791110e-02 4.58498374e-02 2.35924810e-01\n",
            "  5.09382546e-01 4.93464082e-01 3.15721899e-01 8.71958509e-02\n",
            "  3.29520032e-02 1.12919016e-02 7.06039509e-03 4.49346285e-03\n",
            "  8.97887163e-04 6.87480904e-04 3.61428072e-04 2.19102323e-04\n",
            "  1.71302148e-04 1.19763601e-04 3.99708748e-03 5.32190353e-02\n",
            "  3.50251853e-01 4.98611450e-01 6.52865469e-01 7.26161599e-01\n",
            "  5.43401480e-01 3.20923597e-01 3.98141861e-01 1.42106056e-01\n",
            "  1.32400423e-01 1.00676008e-01 2.58298695e-01 4.03514206e-01\n",
            "  7.85505891e-01 4.92144585e-01 4.12758678e-01 8.96167979e-02\n",
            "  6.21511638e-02 5.34261996e-03 3.60984425e-03 1.92211778e-03\n",
            "  7.25427992e-04 4.09990724e-04 4.37674928e-04 1.95861008e-04\n",
            "  1.14793293e-04 1.03423517e-04 9.24183871e-04 1.93456542e-02\n",
            "  3.04247618e-01 4.37208533e-01 6.41465902e-01 7.93209136e-01\n",
            "  6.58733726e-01 5.77014327e-01 6.41226590e-01 6.04741573e-01\n",
            "  4.44247872e-01 3.42782855e-01 6.49080515e-01 7.33402729e-01\n",
            "  6.75121307e-01 4.34252113e-01 1.35509625e-01 1.02874435e-01\n",
            "  3.26282531e-02 1.31100509e-02 5.44360001e-03 1.99577515e-03\n",
            "  5.77321684e-04 2.68661359e-04 1.95324246e-04 1.65732738e-04\n",
            "  1.66025318e-04 2.04813885e-04 4.99150017e-04 3.44332308e-03\n",
            "  9.85672772e-02 2.42809668e-01 6.39914453e-01 7.37580657e-01\n",
            "  7.24271417e-01 8.09197605e-01 7.50754416e-01 7.95650065e-01\n",
            "  6.90826714e-01 5.97935200e-01 5.34642935e-01 5.83941817e-01\n",
            "  4.21216130e-01 3.94284397e-01 8.66577625e-02 2.37627886e-02\n",
            "  1.50808068e-02 2.37706071e-03 1.20472640e-03 1.44174788e-03\n",
            "  6.26183464e-04 1.98785463e-04 2.86333554e-04 9.97040697e-05\n",
            "  9.38983503e-05 2.08950616e-04 2.48126918e-04 9.86943487e-04\n",
            "  3.94219114e-03 7.06174374e-02 2.84690797e-01 4.00480628e-01\n",
            "  6.45684779e-01 7.70954013e-01 6.68770671e-01 5.72327077e-01\n",
            "  4.10629511e-01 2.38626242e-01 3.09668392e-01 2.93466151e-01\n",
            "  2.65323609e-01 9.90398973e-02 3.38745452e-02 7.27168098e-03\n",
            "  2.95844697e-03 1.04250875e-03 5.54585888e-04 6.16491307e-04\n",
            "  2.64449802e-04 1.64096869e-04 1.45440921e-04 2.30920923e-04\n",
            "  1.34581744e-04 2.57764972e-04 1.20829711e-04 2.01919684e-04\n",
            "  6.60540012e-04 3.13291140e-03 5.21063851e-03 1.20071191e-02\n",
            "  1.83806214e-02 1.46578336e-02 2.11650357e-02 3.50108556e-02\n",
            "  4.01988663e-02 9.25870892e-03 6.84543420e-03 9.72439814e-03\n",
            "  1.24983136e-02 1.39594311e-02 5.91201568e-03 1.33293262e-03\n",
            "  1.04598864e-03 4.71314066e-04 3.81519523e-04 2.42929484e-04\n",
            "  2.12987041e-04 2.20524133e-04 2.02935291e-04 1.47254046e-04\n",
            "  1.30604676e-04 1.71080654e-04 1.08007327e-04 2.24291231e-04\n",
            "  3.92255432e-04 6.33464369e-04 1.21063576e-03 8.73112993e-04\n",
            "  5.58142550e-04 5.42931492e-04 3.83110601e-04 4.63079225e-04\n",
            "  5.29654149e-04 6.21321204e-04 4.78243019e-04 9.94722359e-04\n",
            "  8.87362228e-04 7.11941451e-04 5.12453960e-04 6.13839540e-04\n",
            "  6.27854082e-04 4.09026863e-04 1.75002453e-04 2.22033690e-04\n",
            "  1.20413453e-04 1.17641350e-04 2.45196657e-04 1.79850598e-04\n",
            "  9.20392631e-05 1.48733772e-04 1.22999860e-04 1.34581744e-04\n",
            "  1.24719241e-04 1.84045348e-04 2.68987584e-04 2.54182320e-04\n",
            "  3.31199699e-04 7.16047769e-04 8.32909194e-04 8.07679433e-04\n",
            "  2.58646294e-04 6.19250874e-04 1.06700743e-03 6.45593565e-04\n",
            "  7.47151033e-04 8.53291247e-04 4.84746532e-04 1.50493768e-04\n",
            "  1.55398928e-04 1.51994042e-04 1.23294623e-04 1.43385332e-04\n",
            "  1.78061338e-04 1.30604676e-04 1.48733627e-04 2.00759008e-04]], shape=(1, 784), dtype=float32)\n"
          ]
        }
      ]
    },
    {
      "cell_type": "code",
      "source": [
        "# Here we plot the reconstructed image:\n",
        "# img = Image.fromarray(tile_raster_images(X=vv1_p.numpy(), img_shape=(28, 28),tile_shape=(1, 1), tile_spacing=(1, 1)))\n",
        "# plt.rcParams['figure.figsize'] = (4.0, 4.0)\n",
        "# imgplot = plt.imshow(img)\n",
        "# imgplot.set_cmap('gray')\n",
        "import matplotlib.pyplot as plt\n",
        "import numpy as np\n",
        "\n",
        "# Assuming W is a NumPy array representing your image data\n",
        "image_data = W.numpy().T[10:11]  # Assuming W.shape is (..., C, H, W) and you want the 11th image\n",
        "\n",
        "# Reshape to ensure it's a 2D array (grayscale or RGB)\n",
        "if len(image_data.shape) == 3 and image_data.shape[0] == 1:\n",
        "    image_data = image_data.squeeze(axis=0)  # Remove channel dimension if it has only 1 channel\n",
        "\n",
        "# Plot the image\n",
        "plt.imshow(image_data, cmap='gray' if len(image_data.shape) == 2 else None)  # Use grayscale for single-channel images\n",
        "plt.axis('off')  # Hide axes for cleaner visualization (optional)\n",
        "plt.show()\n"
      ],
      "metadata": {
        "colab": {
          "base_uri": "https://localhost:8080/",
          "height": 37
        },
        "id": "iCzzUVab7t7z",
        "outputId": "1c5deb30-b61a-4705-c489-b49a78696bee"
      },
      "execution_count": 29,
      "outputs": [
        {
          "output_type": "display_data",
          "data": {
            "text/plain": [
              "<Figure size 640x480 with 1 Axes>"
            ],
            "image/png": "[encoded data removed]"
          },
          "metadata": {}
        }
      ]
    }
  ]
}